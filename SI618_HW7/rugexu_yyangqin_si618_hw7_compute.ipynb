{
 "cells": [
  {
   "cell_type": "code",
   "execution_count": 1,
   "metadata": {},
   "outputs": [],
   "source": [
    "import json\n",
    "from pyspark import SparkContext\n",
    "sc = SparkContext()\n",
    "from pyspark.sql import SQLContext\n",
    "sqlContext = SQLContext(sc)\n",
    "import pyspark.sql.functions as f\n",
    "from pyspark.sql.types import *\n",
    "from pyspark.sql.functions import *"
   ]
  },
  {
   "cell_type": "code",
   "execution_count": 2,
   "metadata": {},
   "outputs": [],
   "source": [
    "Batch = sqlContext.read.csv(\"rugexu_yyangqin_si618_hw7_batch_result.csv\", header=True, multiLine=True, quote=\"\\\"\", escape=\"\\\"\")"
   ]
  },
  {
   "cell_type": "code",
   "execution_count": 3,
   "metadata": {},
   "outputs": [],
   "source": [
    "Batch.registerTempTable(\"Batch\")"
   ]
  },
  {
   "cell_type": "code",
   "execution_count": 4,
   "metadata": {},
   "outputs": [
    {
     "name": "stdout",
     "output_type": "stream",
     "text": [
      "+--------------------+-----------+\n",
      "|               HITId|toxic_count|\n",
      "+--------------------+-----------+\n",
      "|3MWOYZD5X434T9AN2...|          2|\n",
      "|3IVEC1GSMYENERC1H...|          1|\n",
      "|3BPP3MA3ULZSTIUDW...|          1|\n",
      "|3P7QK0GJ420K3RZ1I...|          2|\n",
      "|3WRKFXQBPKMO9M3YB...|          1|\n",
      "|388CL5C1SS24DSLFM...|          1|\n",
      "|3P4C70TRN0WQDWQ42...|          3|\n",
      "|3E9ZFLPWP77Z9HDO6...|          2|\n",
      "|30EV7DWJU4A8G28X9...|          2|\n",
      "|3HA5ODM5LJ7WZ6BPB...|          3|\n",
      "|3ECKRY5B2ZBOECD37...|          3|\n",
      "|34YWR3PJ3HPO2MW82...|          3|\n",
      "|3JAOYN9IIUH83GOR1...|          2|\n",
      "|37Y5RYYI1YKO3VGKB...|          2|\n",
      "|3EFNPKWBN13CMOPUI...|          2|\n",
      "|3D5G8J4N6JJXE6O40...|          1|\n",
      "|38F60IALBPWHL5NOX...|          1|\n",
      "|37MQ8Z1JRNBKY1PWM...|          3|\n",
      "|3VO4XFFP2E1IB0VG1...|          2|\n",
      "|33EEIIWHLGMKMQWCJ...|          1|\n",
      "+--------------------+-----------+\n",
      "only showing top 20 rows\n",
      "\n"
     ]
    }
   ],
   "source": [
    "toxicCount = sqlContext.sql(\"SELECT HITId, count(*) as toxic_count FROM Batch WHERE `Answer.toxic1.yes`='true' GROUP BY HITId\")\n",
    "toxicCount.show()\n",
    "toxicCount.registerTempTable(\"toxicCount\")"
   ]
  },
  {
   "cell_type": "code",
   "execution_count": 5,
   "metadata": {},
   "outputs": [
    {
     "name": "stdout",
     "output_type": "stream",
     "text": [
      "+--------------------+-----------+\n",
      "|               HITId|toxic_count|\n",
      "+--------------------+-----------+\n",
      "|3MWOYZD5X434T9AN2...|          2|\n",
      "|3IVEC1GSMYENERC1H...|          1|\n",
      "|3BPP3MA3ULZSTIUDW...|          1|\n",
      "|3P7QK0GJ420K3RZ1I...|          2|\n",
      "|3WRKFXQBPKMO9M3YB...|          1|\n",
      "|388CL5C1SS24DSLFM...|          1|\n",
      "|3P4C70TRN0WQDWQ42...|          3|\n",
      "|3E9ZFLPWP77Z9HDO6...|          2|\n",
      "|30EV7DWJU4A8G28X9...|          2|\n",
      "|3HA5ODM5LJ7WZ6BPB...|          3|\n",
      "|3ECKRY5B2ZBOECD37...|          3|\n",
      "|34YWR3PJ3HPO2MW82...|          3|\n",
      "|3JAOYN9IIUH83GOR1...|          2|\n",
      "|37Y5RYYI1YKO3VGKB...|          2|\n",
      "|3EFNPKWBN13CMOPUI...|          2|\n",
      "|3D5G8J4N6JJXE6O40...|          1|\n",
      "|38F60IALBPWHL5NOX...|          1|\n",
      "|37MQ8Z1JRNBKY1PWM...|          3|\n",
      "|3VO4XFFP2E1IB0VG1...|          2|\n",
      "|33EEIIWHLGMKMQWCJ...|          1|\n",
      "+--------------------+-----------+\n",
      "only showing top 20 rows\n",
      "\n"
     ]
    }
   ],
   "source": [
    "toxic_1 = sqlContext.sql(\"SELECT HITId, toxic_count FROM toxicCount WHERE toxic_count >= 1\")\n",
    "toxic_1.show()\n",
    "toxic_1.registerTempTable(\"toxic_1\")"
   ]
  },
  {
   "cell_type": "code",
   "execution_count": 6,
   "metadata": {},
   "outputs": [
    {
     "name": "stdout",
     "output_type": "stream",
     "text": [
      "+-------+\n",
      "|toxic_1|\n",
      "+-------+\n",
      "|     38|\n",
      "+-------+\n",
      "\n"
     ]
    }
   ],
   "source": [
    "q1 = sqlContext.sql(\"SELECT count(*) as toxic_1 FROM toxic_1\")\n",
    "q1.show()"
   ]
  },
  {
   "cell_type": "code",
   "execution_count": 7,
   "metadata": {},
   "outputs": [
    {
     "name": "stdout",
     "output_type": "stream",
     "text": [
      "+--------------------+-----------+\n",
      "|               HITId|toxic_count|\n",
      "+--------------------+-----------+\n",
      "|3MWOYZD5X434T9AN2...|          2|\n",
      "|3P7QK0GJ420K3RZ1I...|          2|\n",
      "|3P4C70TRN0WQDWQ42...|          3|\n",
      "|3E9ZFLPWP77Z9HDO6...|          2|\n",
      "|30EV7DWJU4A8G28X9...|          2|\n",
      "|3HA5ODM5LJ7WZ6BPB...|          3|\n",
      "|3ECKRY5B2ZBOECD37...|          3|\n",
      "|34YWR3PJ3HPO2MW82...|          3|\n",
      "|3JAOYN9IIUH83GOR1...|          2|\n",
      "|37Y5RYYI1YKO3VGKB...|          2|\n",
      "|3EFNPKWBN13CMOPUI...|          2|\n",
      "|37MQ8Z1JRNBKY1PWM...|          3|\n",
      "|3VO4XFFP2E1IB0VG1...|          2|\n",
      "|34F34TZU85EU3CUX0...|          2|\n",
      "|30UZJB2PPQRBHVBVF...|          3|\n",
      "|3EAWOID6N2CWYXRD2...|          3|\n",
      "|3P458N04RAWVYWZMH...|          3|\n",
      "|3PGQRAZX1BZD306UG...|          2|\n",
      "|3JGHED38FM6RK2M2S...|          2|\n",
      "|33QQ60S6B1XWLI2DX...|          2|\n",
      "+--------------------+-----------+\n",
      "only showing top 20 rows\n",
      "\n"
     ]
    }
   ],
   "source": [
    "toxic_2 = sqlContext.sql(\"SELECT HITId, toxic_count FROM toxicCount WHERE toxic_count >= 2\")\n",
    "toxic_2.show()\n",
    "toxic_2.registerTempTable(\"toxic_2\")"
   ]
  },
  {
   "cell_type": "code",
   "execution_count": 8,
   "metadata": {},
   "outputs": [
    {
     "name": "stdout",
     "output_type": "stream",
     "text": [
      "+-------+\n",
      "|toxic_2|\n",
      "+-------+\n",
      "|     25|\n",
      "+-------+\n",
      "\n"
     ]
    }
   ],
   "source": [
    "q2 = sqlContext.sql(\"SELECT count(*) as toxic_2 FROM toxic_2\")\n",
    "q2.show()"
   ]
  },
  {
   "cell_type": "code",
   "execution_count": 9,
   "metadata": {
    "scrolled": true
   },
   "outputs": [
    {
     "name": "stdout",
     "output_type": "stream",
     "text": [
      "+--------------------+-----------+\n",
      "|               HITId|toxic_count|\n",
      "+--------------------+-----------+\n",
      "|3P4C70TRN0WQDWQ42...|          3|\n",
      "|3HA5ODM5LJ7WZ6BPB...|          3|\n",
      "|3ECKRY5B2ZBOECD37...|          3|\n",
      "|34YWR3PJ3HPO2MW82...|          3|\n",
      "|37MQ8Z1JRNBKY1PWM...|          3|\n",
      "|30UZJB2PPQRBHVBVF...|          3|\n",
      "|3EAWOID6N2CWYXRD2...|          3|\n",
      "|3P458N04RAWVYWZMH...|          3|\n",
      "|3L2OEKSTXIPVKGRL2...|          3|\n",
      "|3ZLW647WBUAJIYS8X...|          3|\n",
      "|3X0EMNLXFY4ZMEVXJ...|          3|\n",
      "|3TL87MO8DV4KZWU9R...|          3|\n",
      "|3C8QQOM6KYG49NWZS...|          3|\n",
      "+--------------------+-----------+\n",
      "\n"
     ]
    }
   ],
   "source": [
    "toxic_3 = sqlContext.sql(\"SELECT HITId, toxic_count FROM toxicCount WHERE toxic_count >= 3\")\n",
    "toxic_3.show()\n",
    "toxic_3.registerTempTable(\"toxic_3\")"
   ]
  },
  {
   "cell_type": "code",
   "execution_count": 10,
   "metadata": {},
   "outputs": [
    {
     "name": "stdout",
     "output_type": "stream",
     "text": [
      "+-------+\n",
      "|toxic_3|\n",
      "+-------+\n",
      "|     13|\n",
      "+-------+\n",
      "\n"
     ]
    }
   ],
   "source": [
    "q3 = sqlContext.sql(\"SELECT count(*) as toxic_3 FROM toxic_3\")\n",
    "q3.show()"
   ]
  },
  {
   "cell_type": "code",
   "execution_count": 11,
   "metadata": {
    "scrolled": false
   },
   "outputs": [
    {
     "name": "stdout",
     "output_type": "stream",
     "text": [
      "+--------------------+------------+\n",
      "|               HITId|target_count|\n",
      "+--------------------+------------+\n",
      "|3MWOYZD5X434T9AN2...|           2|\n",
      "|3IVEC1GSMYENERC1H...|           1|\n",
      "|3BPP3MA3ULZSTIUDW...|           1|\n",
      "|3P7QK0GJ420K3RZ1I...|           2|\n",
      "|3WRKFXQBPKMO9M3YB...|           2|\n",
      "|388CL5C1SS24DSLFM...|           1|\n",
      "|3P4C70TRN0WQDWQ42...|           2|\n",
      "|3E9ZFLPWP77Z9HDO6...|           2|\n",
      "|30EV7DWJU4A8G28X9...|           2|\n",
      "|3HA5ODM5LJ7WZ6BPB...|           2|\n",
      "|3ECKRY5B2ZBOECD37...|           2|\n",
      "|34YWR3PJ3HPO2MW82...|           3|\n",
      "|3JAOYN9IIUH83GOR1...|           2|\n",
      "|37Y5RYYI1YKO3VGKB...|           2|\n",
      "|38F60IALBPWHL5NOX...|           1|\n",
      "|37MQ8Z1JRNBKY1PWM...|           3|\n",
      "|3VO4XFFP2E1IB0VG1...|           2|\n",
      "|33EEIIWHLGMKMQWCJ...|           1|\n",
      "|34F34TZU85EU3CUX0...|           2|\n",
      "|38G0E1M86VKCEJ3T0...|           1|\n",
      "+--------------------+------------+\n",
      "only showing top 20 rows\n",
      "\n"
     ]
    }
   ],
   "source": [
    "targetCount = sqlContext.sql(\"SELECT HITId, count(*) as target_count FROM Batch WHERE `Answer.target1.yes`='true' GROUP BY HITId\")\n",
    "targetCount.show()\n",
    "targetCount.registerTempTable(\"targetCount\")"
   ]
  },
  {
   "cell_type": "code",
   "execution_count": 12,
   "metadata": {
    "scrolled": true
   },
   "outputs": [
    {
     "name": "stdout",
     "output_type": "stream",
     "text": [
      "+--------------------+-----------+------------+\n",
      "|               HITId|toxic_count|target_count|\n",
      "+--------------------+-----------+------------+\n",
      "|3MWOYZD5X434T9AN2...|          2|           2|\n",
      "|3P7QK0GJ420K3RZ1I...|          2|           2|\n",
      "|3P4C70TRN0WQDWQ42...|          3|           2|\n",
      "|3E9ZFLPWP77Z9HDO6...|          2|           2|\n",
      "|30EV7DWJU4A8G28X9...|          2|           2|\n",
      "|3HA5ODM5LJ7WZ6BPB...|          3|           2|\n",
      "|3ECKRY5B2ZBOECD37...|          3|           2|\n",
      "|34YWR3PJ3HPO2MW82...|          3|           3|\n",
      "|3JAOYN9IIUH83GOR1...|          2|           2|\n",
      "|37Y5RYYI1YKO3VGKB...|          2|           2|\n",
      "|37MQ8Z1JRNBKY1PWM...|          3|           3|\n",
      "|3VO4XFFP2E1IB0VG1...|          2|           2|\n",
      "|34F34TZU85EU3CUX0...|          2|           2|\n",
      "|30UZJB2PPQRBHVBVF...|          3|           2|\n",
      "|3EAWOID6N2CWYXRD2...|          3|           3|\n",
      "|3P458N04RAWVYWZMH...|          3|           3|\n",
      "|3PGQRAZX1BZD306UG...|          2|           1|\n",
      "|3JGHED38FM6RK2M2S...|          2|           3|\n",
      "|33QQ60S6B1XWLI2DX...|          2|           2|\n",
      "|3L2OEKSTXIPVKGRL2...|          3|           3|\n",
      "+--------------------+-----------+------------+\n",
      "only showing top 20 rows\n",
      "\n"
     ]
    }
   ],
   "source": [
    "targeted = sqlContext.sql(\"SELECT toxicCount.HITId, toxicCount.toxic_count, targetCount.target_count FROM toxicCount INNER JOIN targetCount ON toxicCount.HITId=targetCount.HITId WHERE toxic_count>=2\")\n",
    "targeted.show()\n",
    "targeted.registerTempTable(\"targeted\")"
   ]
  },
  {
   "cell_type": "code",
   "execution_count": 13,
   "metadata": {},
   "outputs": [
    {
     "name": "stdout",
     "output_type": "stream",
     "text": [
      "+--------+\n",
      "|targeted|\n",
      "+--------+\n",
      "|      24|\n",
      "+--------+\n",
      "\n"
     ]
    }
   ],
   "source": [
    "q4 = sqlContext.sql(\"SELECT count(*) as targeted FROM targeted\")\n",
    "q4.show()"
   ]
  }
 ],
 "metadata": {
  "kernelspec": {
   "display_name": "Python 3",
   "language": "python",
   "name": "python3"
  },
  "language_info": {
   "codemirror_mode": {
    "name": "ipython",
    "version": 3
   },
   "file_extension": ".py",
   "mimetype": "text/x-python",
   "name": "python",
   "nbconvert_exporter": "python",
   "pygments_lexer": "ipython3",
   "version": "3.8.5"
  }
 },
 "nbformat": 4,
 "nbformat_minor": 4
}
