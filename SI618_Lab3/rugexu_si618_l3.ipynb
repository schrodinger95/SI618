{
 "cells": [
  {
   "cell_type": "code",
   "execution_count": 1,
   "metadata": {
    "colab": {},
    "colab_type": "code",
    "id": "0F1eTX_HgMLh"
   },
   "outputs": [],
   "source": [
    "#!/usr/bin/env python\n",
    "# -*- coding: utf-8 -*-\n",
    "\n",
    "# Lab 3 SI 618: Fetching and parsing structured documents (100 points)\n",
    "#\n",
    "# The utf8 'magic comment' is to tell Python that this source code will\n",
    "# contain unicode literals outside of the ISO-Latin-1 character set.\n",
    "\n",
    "# Some lines of code are taken from Google's Python Class\n",
    "# http://code.google.com/edu/languages/google-python-class/  and\n",
    "# an earlier lab by Dr. Yuhang Wang.\n",
    "\n",
    "# The purpose of this lab is to have you practice using some powerful\n",
    "# modules for fetching and parsing content:\n",
    "#    urllib3 : for fetching the content of a URL (e.g. HTML page)\n",
    "#    BeautifulSoup : for parsing HTML and XML pages\n",
    "#    json : for JSON reading and writing\n",
    "#\n",
    "# You should fill in the code for the functions below.\n",
    "# main() is already set up to call the functions with a few different inputs,\n",
    "# printing 'OK' when each function is correct."
   ]
  },
  {
   "cell_type": "code",
   "execution_count": 2,
   "metadata": {
    "colab": {},
    "colab_type": "code",
    "id": "y5wSnVq6gWSE"
   },
   "outputs": [],
   "source": [
    "from bs4 import BeautifulSoup\n",
    "import json\n",
    "import urllib3"
   ]
  },
  {
   "cell_type": "code",
   "execution_count": 3,
   "metadata": {
    "colab": {},
    "colab_type": "code",
    "id": "thQfkldhgcQe"
   },
   "outputs": [],
   "source": [
    "# We will get the UMSI wikipedia page using urllib3. This will be the html used in the lab\n",
    "http = urllib3.PoolManager()\n",
    "response = http.request(\"GET\", 'https://en.wikipedia.org/w/index.php?title=University_of_Michigan_School_of_Information&oldid=1010694377')\n",
    "html_doc = response.data.decode('utf-8')"
   ]
  },
  {
   "cell_type": "code",
   "execution_count": 4,
   "metadata": {
    "colab": {},
    "colab_type": "code",
    "id": "hIp9kXF2ghjp"
   },
   "outputs": [],
   "source": [
    "# this is the json string used in this lab. It is a tweet posted in the CDC Twitter account regarding COVID vaccines on 9/10/2021 \n",
    "json_str = open(\"tweet.json\",\"r\").read()"
   ]
  },
  {
   "cell_type": "code",
   "execution_count": 5,
   "metadata": {
    "colab": {},
    "colab_type": "code",
    "id": "lMOsmCgrgk6R"
   },
   "outputs": [],
   "source": [
    "\n",
    "# Q1. get_title (15 points)\n",
    "# The get_title function should should process the HTML page stored in the global\n",
    "# variable html_doc, and return the title of the page in a unicode string.\n",
    "# get_title() should return u'University of Michigan School of Information - Wikipedia'\n",
    "def get_title():\n",
    "    soup = BeautifulSoup(html_doc)\n",
    "    return soup.title.string"
   ]
  },
  {
   "cell_type": "code",
   "execution_count": 6,
   "metadata": {
    "colab": {},
    "colab_type": "code",
    "id": "up_14ZTSglvj"
   },
   "outputs": [],
   "source": [
    "# Q2. get_tweet_photo (15 points)\n",
    "# The get_tweet_photo function should load the dictionary stored as a JSON string\n",
    "# in global variable json_str, and the shortened url of the photo embedded in the tweet\n",
    "# get_tweet_photo() should return https://t.co/FSmQo3y3Ir\n",
    "def get_tweet_photo():\n",
    "    text = json.loads(json_str)\n",
    "    return text['entities']['media'][0]['url']"
   ]
  },
  {
   "cell_type": "code",
   "execution_count": 7,
   "metadata": {
    "colab": {},
    "colab_type": "code",
    "id": "GbqAEFFzgoff"
   },
   "outputs": [],
   "source": [
    "# Q3. get_link_count (20 points)\n",
    "# The get_link_count function should process the HTML page stored in the global variable\n",
    "# html_doc, and return the number of links  \n",
    "# get_link_count() should return 390\n",
    "def get_link_count():\n",
    "    soup = BeautifulSoup(html_doc)\n",
    "    return len(soup.find_all(\"a\"))"
   ]
  },
  {
   "cell_type": "code",
   "execution_count": 8,
   "metadata": {
    "colab": {},
    "colab_type": "code",
    "id": "3encF-gAgq-Z"
   },
   "outputs": [],
   "source": [
    "# Q4. get_sub_headings (20 points)\n",
    "# The get_sub_headings function should process the HTML page stored in the global variable\n",
    "# html_doc, and return the eight sub headings in a JSON string. \n",
    "# Note that it should return a string, not a list. \n",
    "# get_sub_headings() should return '[\"Undergraduate degree\", \"Master\\'s degree\", \"Master\\'s of Applied Data Science on Coursera\", \"Doctoral degree\", \"Faculty and research\", \"History\", \"References\", \"External links\"]'\n",
    "def get_sub_headings():\n",
    "    soup = BeautifulSoup(html_doc)\n",
    "    toctext = soup.find_all(attrs={'class':\"toctext\"})\n",
    "    subheadings = []\n",
    "    for toc in toctext:\n",
    "        subheadings.append(toc.text)\n",
    "    return '[\"' + '\", \"'.join(subheadings) + '\"]'"
   ]
  },
  {
   "cell_type": "code",
   "execution_count": 9,
   "metadata": {
    "colab": {},
    "colab_type": "code",
    "id": "oYal-h5ugstz"
   },
   "outputs": [],
   "source": [
    "# Q5. get_school_info (30 points)\n",
    "# The get_school_info function should process the HTML page stored in the global variable\n",
    "# html_doc, and return information information from the summary info box in a JSON string. \n",
    "# Note that it should return a string, not a list.\n",
    "# get_school_info() should return '{\"Type\": \"Public\", \"Established\": \"1969[citation needed]\", \"Parent institution\": \"University of Michigan\", \"Dean\": \"Thomas Finholt\", \"Academic staff\": \"111[1]\", \"Students\": \"1199[1]\", \"Location\": \"Ann Arbor, Michigan, United States\", \"Campus\": \"Urban\", \"Website\": \"si.umich.edu\"}'\n",
    "# HINT: contruct a list of tuples first, and then convert it to a dictionary to turn into a\n",
    "#  JSON string.\n",
    "def get_school_info():\n",
    "    soup = BeautifulSoup(html_doc)\n",
    "    labels = soup.find_all(attrs={'class':\"infobox-label\"})\n",
    "    data = soup.find_all(attrs={'class':\"infobox-data\"})\n",
    "    dict = {}\n",
    "    for i in range(0, len(labels)):\n",
    "        dict[labels[i].text] = data[i].text\n",
    "    str = json.dumps(dict)\n",
    "    return str"
   ]
  },
  {
   "cell_type": "code",
   "execution_count": 10,
   "metadata": {
    "colab": {},
    "colab_type": "code",
    "id": "Ywe9UTwKg3-k"
   },
   "outputs": [],
   "source": [
    "#######################################################################\n",
    "# DO NOT MODIFY ANY CODE BELOW\n",
    "#######################################################################\n",
    "\n",
    "# Provided simple test() function used in main() to print\n",
    "# what each function returns vs. what it's supposed to return.\n",
    "def test(got, expected):\n",
    "  if got == expected:\n",
    "    prefix = ' OK '\n",
    "  else:\n",
    "    prefix = '  X '\n",
    "  print ('%s got: %s expected: %s' % (prefix, repr(got), repr(expected)))\n",
    "\n",
    "def test2(got, expected):\n",
    "  if got == expected:\n",
    "    prefix = ' OK '\n",
    "  else:\n",
    "    prefix = '  X '\n",
    "  print ('%s got: %s expected: %s' % (prefix, got, expected))\n",
    "\n",
    "# Provided main() calls the above functions with interesting inputs,\n",
    "# using test() to check if each result is correct or not."
   ]
  },
  {
   "cell_type": "code",
   "execution_count": 11,
   "metadata": {
    "colab": {},
    "colab_type": "code",
    "id": "W3WNuUXig7t9"
   },
   "outputs": [],
   "source": [
    "def main():\n",
    "  print ('get_title')\n",
    "\n",
    "  test(get_title(), u'University of Michigan School of Information - Wikipedia')\n",
    "  \n",
    "  print ('get_tweet_photo')\n",
    "\n",
    "  test(get_tweet_photo(), \"https://t.co/FSmQo3y3Ir\")\n",
    "\n",
    "  print ('get_link_counts')\n",
    "\n",
    "  test(get_link_count(), 390)\n",
    "  \n",
    "  print ('get_sub_headings')\n",
    "\n",
    "  test(get_sub_headings(), '[\"Undergraduate degree\", \"Master\\'s degree\", \"Master\\'s of Applied Data Science on Coursera\", \"Doctoral degree\", \"Faculty and research\", \"History\", \"References\", \"External links\"]')\n",
    "\n",
    "  print ('get_school_info')\n",
    "\n",
    "  test(get_school_info(), '{\"Type\": \"Public\", \"Established\": \"1969[citation needed]\", \"Parent institution\": \"University of Michigan\", \"Dean\": \"Thomas Finholt\", \"Academic staff\": \"111[1]\", \"Students\": \"1199[1]\", \"Location\": \"Ann Arbor, Michigan, United States\", \"Campus\": \"Urban\", \"Website\": \"si.umich.edu\"}')"
   ]
  },
  {
   "cell_type": "code",
   "execution_count": 12,
   "metadata": {
    "colab": {
     "base_uri": "https://localhost:8080/",
     "height": 221
    },
    "colab_type": "code",
    "id": "6Aa-8fPjg-kK",
    "outputId": "ac0a069d-509b-4e35-dbba-8d0013ea9577"
   },
   "outputs": [
    {
     "name": "stdout",
     "output_type": "stream",
     "text": [
      "get_title\n",
      " OK  got: 'University of Michigan School of Information - Wikipedia' expected: 'University of Michigan School of Information - Wikipedia'\n",
      "get_tweet_photo\n",
      " OK  got: 'https://t.co/FSmQo3y3Ir' expected: 'https://t.co/FSmQo3y3Ir'\n",
      "get_link_counts\n",
      " OK  got: 390 expected: 390\n",
      "get_sub_headings\n",
      " OK  got: '[\"Undergraduate degree\", \"Master\\'s degree\", \"Master\\'s of Applied Data Science on Coursera\", \"Doctoral degree\", \"Faculty and research\", \"History\", \"References\", \"External links\"]' expected: '[\"Undergraduate degree\", \"Master\\'s degree\", \"Master\\'s of Applied Data Science on Coursera\", \"Doctoral degree\", \"Faculty and research\", \"History\", \"References\", \"External links\"]'\n",
      "get_school_info\n",
      " OK  got: '{\"Type\": \"Public\", \"Established\": \"1969[citation needed]\", \"Parent institution\": \"University of Michigan\", \"Dean\": \"Thomas Finholt\", \"Academic staff\": \"111[1]\", \"Students\": \"1199[1]\", \"Location\": \"Ann Arbor, Michigan, United States\", \"Campus\": \"Urban\", \"Website\": \"si.umich.edu\"}' expected: '{\"Type\": \"Public\", \"Established\": \"1969[citation needed]\", \"Parent institution\": \"University of Michigan\", \"Dean\": \"Thomas Finholt\", \"Academic staff\": \"111[1]\", \"Students\": \"1199[1]\", \"Location\": \"Ann Arbor, Michigan, United States\", \"Campus\": \"Urban\", \"Website\": \"si.umich.edu\"}'\n"
     ]
    }
   ],
   "source": [
    "# Standard boilerplate to call the main() function.\n",
    "if __name__ == '__main__':\n",
    "  main()"
   ]
  }
 ],
 "metadata": {
  "colab": {
   "collapsed_sections": [],
   "name": "si618_lab3.ipynb",
   "provenance": []
  },
  "interpreter": {
   "hash": "ccfad3a08567331d09d2432bee1b50cab695c9379824f131d2e64405b63b07b1"
  },
  "kernelspec": {
   "display_name": "Python 3",
   "language": "python",
   "name": "python3"
  },
  "language_info": {
   "codemirror_mode": {
    "name": "ipython",
    "version": 3
   },
   "file_extension": ".py",
   "mimetype": "text/x-python",
   "name": "python",
   "nbconvert_exporter": "python",
   "pygments_lexer": "ipython3",
   "version": "3.8.5"
  }
 },
 "nbformat": 4,
 "nbformat_minor": 2
}
