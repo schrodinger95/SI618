{
 "cells": [
  {
   "cell_type": "markdown",
   "metadata": {
    "colab_type": "text",
    "id": "h_ict6b-qxLD"
   },
   "source": [
    "Let's learn more about pandas! Let's load the appropriate library\n",
    "# Initialize"
   ]
  },
  {
   "cell_type": "code",
   "execution_count": 55,
   "metadata": {
    "colab": {},
    "colab_type": "code",
    "id": "MHMdV0wyFX6X"
   },
   "outputs": [],
   "source": [
    "import pandas as pd\n",
    "import numpy as np"
   ]
  },
  {
   "cell_type": "markdown",
   "metadata": {
    "colab_type": "text",
    "id": "gU76-U0ftZWw"
   },
   "source": [
    "<font color='red'>To-do:</font> Load nfl_football_profiles.json to pandas df named nfl\n",
    "\n",
    "\n"
   ]
  },
  {
   "cell_type": "code",
   "execution_count": 56,
   "metadata": {},
   "outputs": [
    {
     "data": {
      "text/html": [
       "<div>\n",
       "<style scoped>\n",
       "    .dataframe tbody tr th:only-of-type {\n",
       "        vertical-align: middle;\n",
       "    }\n",
       "\n",
       "    .dataframe tbody tr th {\n",
       "        vertical-align: top;\n",
       "    }\n",
       "\n",
       "    .dataframe thead th {\n",
       "        text-align: right;\n",
       "    }\n",
       "</style>\n",
       "<table border=\"1\" class=\"dataframe\">\n",
       "  <thead>\n",
       "    <tr style=\"text-align: right;\">\n",
       "      <th></th>\n",
       "      <th>player_id</th>\n",
       "      <th>name</th>\n",
       "      <th>position</th>\n",
       "      <th>height</th>\n",
       "      <th>weight</th>\n",
       "      <th>current_team</th>\n",
       "      <th>birth_date</th>\n",
       "      <th>birth_place</th>\n",
       "      <th>death_date</th>\n",
       "      <th>college</th>\n",
       "      <th>high_school</th>\n",
       "      <th>draft_team</th>\n",
       "      <th>draft_round</th>\n",
       "      <th>draft_position</th>\n",
       "      <th>draft_year</th>\n",
       "      <th>current_salary</th>\n",
       "      <th>hof_induction_year</th>\n",
       "    </tr>\n",
       "  </thead>\n",
       "  <tbody>\n",
       "    <tr>\n",
       "      <th>0</th>\n",
       "      <td>1809</td>\n",
       "      <td>Robert Blackmon</td>\n",
       "      <td>DB</td>\n",
       "      <td>6-0</td>\n",
       "      <td>208.0</td>\n",
       "      <td>None</td>\n",
       "      <td>1967-05-12</td>\n",
       "      <td>Bay City, TX</td>\n",
       "      <td>None</td>\n",
       "      <td>Baylor</td>\n",
       "      <td>Van Vleck, TX</td>\n",
       "      <td>Seattle Seahawks</td>\n",
       "      <td>2.0</td>\n",
       "      <td>34.0</td>\n",
       "      <td>1990.0</td>\n",
       "      <td>None</td>\n",
       "      <td>NaN</td>\n",
       "    </tr>\n",
       "    <tr>\n",
       "      <th>1</th>\n",
       "      <td>23586</td>\n",
       "      <td>Dean Wells</td>\n",
       "      <td>LB</td>\n",
       "      <td>6-3</td>\n",
       "      <td>248.0</td>\n",
       "      <td>None</td>\n",
       "      <td>1970-07-20</td>\n",
       "      <td>Louisville, KY</td>\n",
       "      <td>None</td>\n",
       "      <td>Kentucky</td>\n",
       "      <td>Holy Cross, KY</td>\n",
       "      <td>Seattle Seahawks</td>\n",
       "      <td>4.0</td>\n",
       "      <td>85.0</td>\n",
       "      <td>1993.0</td>\n",
       "      <td>None</td>\n",
       "      <td>NaN</td>\n",
       "    </tr>\n",
       "    <tr>\n",
       "      <th>2</th>\n",
       "      <td>355</td>\n",
       "      <td>Kiko Alonso</td>\n",
       "      <td>ILB</td>\n",
       "      <td>6-3</td>\n",
       "      <td>238.0</td>\n",
       "      <td>Miami Dolphins</td>\n",
       "      <td>1990-08-14</td>\n",
       "      <td>Newton, MA</td>\n",
       "      <td>None</td>\n",
       "      <td>Oregon</td>\n",
       "      <td>Los Gatos, CA</td>\n",
       "      <td>Buffalo Bills</td>\n",
       "      <td>2.0</td>\n",
       "      <td>46.0</td>\n",
       "      <td>2013.0</td>\n",
       "      <td>1,075,000</td>\n",
       "      <td>NaN</td>\n",
       "    </tr>\n",
       "    <tr>\n",
       "      <th>3</th>\n",
       "      <td>18182</td>\n",
       "      <td>Steve Ramsey</td>\n",
       "      <td>QB</td>\n",
       "      <td>6-2</td>\n",
       "      <td>210.0</td>\n",
       "      <td>None</td>\n",
       "      <td>1948-04-22</td>\n",
       "      <td>Dallas, TX</td>\n",
       "      <td>1999-10-15</td>\n",
       "      <td>North Texas</td>\n",
       "      <td>W.W. Samuell, TX</td>\n",
       "      <td>New Orleans Saints</td>\n",
       "      <td>5.0</td>\n",
       "      <td>126.0</td>\n",
       "      <td>1970.0</td>\n",
       "      <td>None</td>\n",
       "      <td>NaN</td>\n",
       "    </tr>\n",
       "    <tr>\n",
       "      <th>4</th>\n",
       "      <td>16250</td>\n",
       "      <td>Cory Nelms</td>\n",
       "      <td>CB</td>\n",
       "      <td>6-0</td>\n",
       "      <td>195.0</td>\n",
       "      <td>None</td>\n",
       "      <td>1988-02-27</td>\n",
       "      <td>Neptune, NJ</td>\n",
       "      <td>None</td>\n",
       "      <td>Miami (FL)</td>\n",
       "      <td>Neptune, NJ</td>\n",
       "      <td>None</td>\n",
       "      <td>NaN</td>\n",
       "      <td>NaN</td>\n",
       "      <td>NaN</td>\n",
       "      <td>None</td>\n",
       "      <td>NaN</td>\n",
       "    </tr>\n",
       "  </tbody>\n",
       "</table>\n",
       "</div>"
      ],
      "text/plain": [
       "   player_id             name position height  weight    current_team  \\\n",
       "0       1809  Robert Blackmon       DB    6-0   208.0            None   \n",
       "1      23586       Dean Wells       LB    6-3   248.0            None   \n",
       "2        355      Kiko Alonso      ILB    6-3   238.0  Miami Dolphins   \n",
       "3      18182     Steve Ramsey       QB    6-2   210.0            None   \n",
       "4      16250       Cory Nelms       CB    6-0   195.0            None   \n",
       "\n",
       "   birth_date     birth_place  death_date      college       high_school  \\\n",
       "0  1967-05-12    Bay City, TX        None       Baylor     Van Vleck, TX   \n",
       "1  1970-07-20  Louisville, KY        None     Kentucky    Holy Cross, KY   \n",
       "2  1990-08-14      Newton, MA        None       Oregon     Los Gatos, CA   \n",
       "3  1948-04-22      Dallas, TX  1999-10-15  North Texas  W.W. Samuell, TX   \n",
       "4  1988-02-27     Neptune, NJ        None   Miami (FL)       Neptune, NJ   \n",
       "\n",
       "           draft_team  draft_round  draft_position  draft_year current_salary  \\\n",
       "0    Seattle Seahawks          2.0            34.0      1990.0           None   \n",
       "1    Seattle Seahawks          4.0            85.0      1993.0           None   \n",
       "2       Buffalo Bills          2.0            46.0      2013.0      1,075,000   \n",
       "3  New Orleans Saints          5.0           126.0      1970.0           None   \n",
       "4                None          NaN             NaN         NaN           None   \n",
       "\n",
       "   hof_induction_year  \n",
       "0                 NaN  \n",
       "1                 NaN  \n",
       "2                 NaN  \n",
       "3                 NaN  \n",
       "4                 NaN  "
      ]
     },
     "execution_count": 56,
     "metadata": {},
     "output_type": "execute_result"
    }
   ],
   "source": [
    "nfl = pd.read_json('nfl_football_profiles.json')\n",
    "nfl.head()"
   ]
  },
  {
   "cell_type": "markdown",
   "metadata": {
    "colab_type": "text",
    "id": "0ItOuid97rc8"
   },
   "source": [
    "Lets clean up the data:\n",
    "Let's remove all the commas in the current_salary column in a new column called salary"
   ]
  },
  {
   "cell_type": "code",
   "execution_count": 57,
   "metadata": {
    "colab": {},
    "colab_type": "code",
    "id": "nCkaEzn_7qnm"
   },
   "outputs": [],
   "source": [
    "nfl['salary'] = nfl['current_salary'].str.replace(',', '')"
   ]
  },
  {
   "cell_type": "markdown",
   "metadata": {
    "colab_type": "text",
    "id": "8KOiOlqO8iLQ"
   },
   "source": [
    "Let's clean this up further by converting the data type to a float"
   ]
  },
  {
   "cell_type": "code",
   "execution_count": 58,
   "metadata": {
    "colab": {},
    "colab_type": "code",
    "id": "nwE5RCSZ8RJq"
   },
   "outputs": [],
   "source": [
    "nfl['salary'] = nfl['salary'].astype(float)"
   ]
  },
  {
   "cell_type": "code",
   "execution_count": 59,
   "metadata": {
    "colab": {},
    "colab_type": "code",
    "id": "cXgeFIlK8q4F"
   },
   "outputs": [
    {
     "data": {
      "text/plain": [
       "0          NaN\n",
       "1          NaN\n",
       "2    1075000.0\n",
       "3          NaN\n",
       "4          NaN\n",
       "5          NaN\n",
       "6    1762000.0\n",
       "7          NaN\n",
       "8          NaN\n",
       "9          NaN\n",
       "Name: salary, dtype: float64"
      ]
     },
     "execution_count": 59,
     "metadata": {},
     "output_type": "execute_result"
    }
   ],
   "source": [
    "nfl['salary'].head(10)"
   ]
  },
  {
   "cell_type": "markdown",
   "metadata": {
    "colab_type": "text",
    "id": "C5PUTFtJ87aX"
   },
   "source": [
    "<font color='red'>To-do:</font> Remove all NaN values in salary from the nfl df into a new df called nfl_salary_cleaned"
   ]
  },
  {
   "cell_type": "code",
   "execution_count": 60,
   "metadata": {},
   "outputs": [
    {
     "data": {
      "text/html": [
       "<div>\n",
       "<style scoped>\n",
       "    .dataframe tbody tr th:only-of-type {\n",
       "        vertical-align: middle;\n",
       "    }\n",
       "\n",
       "    .dataframe tbody tr th {\n",
       "        vertical-align: top;\n",
       "    }\n",
       "\n",
       "    .dataframe thead th {\n",
       "        text-align: right;\n",
       "    }\n",
       "</style>\n",
       "<table border=\"1\" class=\"dataframe\">\n",
       "  <thead>\n",
       "    <tr style=\"text-align: right;\">\n",
       "      <th></th>\n",
       "      <th>player_id</th>\n",
       "      <th>name</th>\n",
       "      <th>position</th>\n",
       "      <th>height</th>\n",
       "      <th>weight</th>\n",
       "      <th>current_team</th>\n",
       "      <th>birth_date</th>\n",
       "      <th>birth_place</th>\n",
       "      <th>death_date</th>\n",
       "      <th>college</th>\n",
       "      <th>high_school</th>\n",
       "      <th>draft_team</th>\n",
       "      <th>draft_round</th>\n",
       "      <th>draft_position</th>\n",
       "      <th>draft_year</th>\n",
       "      <th>current_salary</th>\n",
       "      <th>hof_induction_year</th>\n",
       "      <th>salary</th>\n",
       "    </tr>\n",
       "  </thead>\n",
       "  <tbody>\n",
       "    <tr>\n",
       "      <th>2</th>\n",
       "      <td>355</td>\n",
       "      <td>Kiko Alonso</td>\n",
       "      <td>ILB</td>\n",
       "      <td>6-3</td>\n",
       "      <td>238.0</td>\n",
       "      <td>Miami Dolphins</td>\n",
       "      <td>1990-08-14</td>\n",
       "      <td>Newton, MA</td>\n",
       "      <td>None</td>\n",
       "      <td>Oregon</td>\n",
       "      <td>Los Gatos, CA</td>\n",
       "      <td>Buffalo Bills</td>\n",
       "      <td>2.0</td>\n",
       "      <td>46.0</td>\n",
       "      <td>2013.0</td>\n",
       "      <td>1,075,000</td>\n",
       "      <td>NaN</td>\n",
       "      <td>1075000.0</td>\n",
       "    </tr>\n",
       "    <tr>\n",
       "      <th>6</th>\n",
       "      <td>2701</td>\n",
       "      <td>Preston Brown</td>\n",
       "      <td>ILB</td>\n",
       "      <td>6-1</td>\n",
       "      <td>251.0</td>\n",
       "      <td>Buffalo Bills</td>\n",
       "      <td>1992-10-27</td>\n",
       "      <td>Cincinnati, OH</td>\n",
       "      <td>None</td>\n",
       "      <td>Louisville</td>\n",
       "      <td>Northwest, OH</td>\n",
       "      <td>Buffalo Bills</td>\n",
       "      <td>3.0</td>\n",
       "      <td>73.0</td>\n",
       "      <td>2014.0</td>\n",
       "      <td>1,762,000</td>\n",
       "      <td>NaN</td>\n",
       "      <td>1762000.0</td>\n",
       "    </tr>\n",
       "    <tr>\n",
       "      <th>13</th>\n",
       "      <td>3966</td>\n",
       "      <td>Frank Clark</td>\n",
       "      <td>DE</td>\n",
       "      <td>6-2</td>\n",
       "      <td>270.0</td>\n",
       "      <td>Seattle Seahawks</td>\n",
       "      <td>1993-06-14</td>\n",
       "      <td>Cleveland, OH</td>\n",
       "      <td>None</td>\n",
       "      <td>Michigan</td>\n",
       "      <td>Glenville, OH</td>\n",
       "      <td>Seattle Seahawks</td>\n",
       "      <td>2.0</td>\n",
       "      <td>63.0</td>\n",
       "      <td>2015.0</td>\n",
       "      <td>774,294</td>\n",
       "      <td>NaN</td>\n",
       "      <td>774294.0</td>\n",
       "    </tr>\n",
       "    <tr>\n",
       "      <th>37</th>\n",
       "      <td>19449</td>\n",
       "      <td>Emmanuel Sanders</td>\n",
       "      <td>WR</td>\n",
       "      <td>5-11</td>\n",
       "      <td>186.0</td>\n",
       "      <td>Denver Broncos</td>\n",
       "      <td>1987-03-16</td>\n",
       "      <td>Bellville, TX</td>\n",
       "      <td>None</td>\n",
       "      <td>SMU</td>\n",
       "      <td>Bellville, TX</td>\n",
       "      <td>Pittsburgh Steelers</td>\n",
       "      <td>3.0</td>\n",
       "      <td>82.0</td>\n",
       "      <td>2010.0</td>\n",
       "      <td>6,750,000</td>\n",
       "      <td>NaN</td>\n",
       "      <td>6750000.0</td>\n",
       "    </tr>\n",
       "    <tr>\n",
       "      <th>53</th>\n",
       "      <td>17858</td>\n",
       "      <td>Bilal Powell</td>\n",
       "      <td>RB</td>\n",
       "      <td>5-11</td>\n",
       "      <td>204.0</td>\n",
       "      <td>New York Jets</td>\n",
       "      <td>1988-10-27</td>\n",
       "      <td>Lakeland, FL</td>\n",
       "      <td>None</td>\n",
       "      <td>Louisville</td>\n",
       "      <td>Lake Gibson, FL</td>\n",
       "      <td>New York Jets</td>\n",
       "      <td>4.0</td>\n",
       "      <td>126.0</td>\n",
       "      <td>2011.0</td>\n",
       "      <td>3,750,000</td>\n",
       "      <td>NaN</td>\n",
       "      <td>3750000.0</td>\n",
       "    </tr>\n",
       "  </tbody>\n",
       "</table>\n",
       "</div>"
      ],
      "text/plain": [
       "    player_id               name position height  weight      current_team  \\\n",
       "2         355        Kiko Alonso      ILB    6-3   238.0    Miami Dolphins   \n",
       "6        2701      Preston Brown      ILB    6-1   251.0     Buffalo Bills   \n",
       "13       3966        Frank Clark       DE    6-2   270.0  Seattle Seahawks   \n",
       "37      19449  Emmanuel Sanders        WR   5-11   186.0    Denver Broncos   \n",
       "53      17858       Bilal Powell       RB   5-11   204.0     New York Jets   \n",
       "\n",
       "    birth_date     birth_place death_date     college      high_school  \\\n",
       "2   1990-08-14      Newton, MA       None      Oregon    Los Gatos, CA   \n",
       "6   1992-10-27  Cincinnati, OH       None  Louisville    Northwest, OH   \n",
       "13  1993-06-14   Cleveland, OH       None    Michigan    Glenville, OH   \n",
       "37  1987-03-16   Bellville, TX       None         SMU    Bellville, TX   \n",
       "53  1988-10-27    Lakeland, FL       None  Louisville  Lake Gibson, FL   \n",
       "\n",
       "             draft_team  draft_round  draft_position  draft_year  \\\n",
       "2         Buffalo Bills          2.0            46.0      2013.0   \n",
       "6         Buffalo Bills          3.0            73.0      2014.0   \n",
       "13     Seattle Seahawks          2.0            63.0      2015.0   \n",
       "37  Pittsburgh Steelers          3.0            82.0      2010.0   \n",
       "53        New York Jets          4.0           126.0      2011.0   \n",
       "\n",
       "   current_salary  hof_induction_year     salary  \n",
       "2       1,075,000                 NaN  1075000.0  \n",
       "6       1,762,000                 NaN  1762000.0  \n",
       "13        774,294                 NaN   774294.0  \n",
       "37      6,750,000                 NaN  6750000.0  \n",
       "53      3,750,000                 NaN  3750000.0  "
      ]
     },
     "execution_count": 60,
     "metadata": {},
     "output_type": "execute_result"
    }
   ],
   "source": [
    "nfl_salary_cleaned = nfl.dropna(subset=['salary'])\n",
    "nfl_salary_cleaned.head()"
   ]
  },
  {
   "cell_type": "markdown",
   "metadata": {
    "colab_type": "text",
    "id": "2qNZJaFe-y7N"
   },
   "source": [
    "# Dummy variables and discretizing salaries"
   ]
  },
  {
   "cell_type": "markdown",
   "metadata": {
    "colab_type": "text",
    "id": "9C1CVM9J_Adr"
   },
   "source": [
    "<font color='red'>To-do:</font> Using the same NFL dataset, lets discretize the salaries. Let's create bins by splitting salaries into five equally sized groups (hint: use pd.Series.quantiles and np.linspace)"
   ]
  },
  {
   "cell_type": "code",
   "execution_count": 61,
   "metadata": {
    "colab": {},
    "colab_type": "code",
    "id": "92adY17u-_PW"
   },
   "outputs": [
    {
     "data": {
      "text/plain": [
       "0.0       38294.0\n",
       "0.2      465000.0\n",
       "0.4      615000.0\n",
       "0.6      800000.0\n",
       "0.8     1797000.0\n",
       "1.0    23943600.0\n",
       "Name: salary, dtype: float64"
      ]
     },
     "execution_count": 61,
     "metadata": {},
     "output_type": "execute_result"
    }
   ],
   "source": [
    "bins = nfl['salary'].quantile(q=[0, 0.2, 0.4, 0.6, 0.8, 1], interpolation='linear')\n",
    "bins"
   ]
  },
  {
   "cell_type": "markdown",
   "metadata": {
    "colab_type": "text",
    "id": "Q_6JTAk6AHiX"
   },
   "source": [
    "Using these bins that we set, we can set labels to them and have them categorized by that bin by using pd.cut()"
   ]
  },
  {
   "cell_type": "code",
   "execution_count": 62,
   "metadata": {
    "colab": {
     "base_uri": "https://localhost:8080/",
     "height": 221
    },
    "colab_type": "code",
    "executionInfo": {
     "elapsed": 450,
     "status": "ok",
     "timestamp": 1599755754780,
     "user": {
      "displayName": "Kevin Lee",
      "photoUrl": "https://lh3.googleusercontent.com/a-/AOh14Gi-Bzlj5PkYle1VXcuH3tD0oB_eYMp8TFinoIcH=s64",
      "userId": "17607607416881687332"
     },
     "user_tz": 240
    },
    "id": "4zW1cVoG_WB6",
    "outputId": "74ddc7e9-0c21-4491-aaec-bb17ae2d02b5"
   },
   "outputs": [
    {
     "data": {
      "text/plain": [
       "2      d6\n",
       "6      d6\n",
       "13     d4\n",
       "37     d8\n",
       "53     d8\n",
       "57     d6\n",
       "90     d2\n",
       "106    d8\n",
       "113    d0\n",
       "114    d8\n",
       "Name: salary, dtype: category\n",
       "Categories (5, object): ['d0' < 'd2' < 'd4' < 'd6' < 'd8']"
      ]
     },
     "execution_count": 62,
     "metadata": {},
     "output_type": "execute_result"
    }
   ],
   "source": [
    "pd.cut(nfl_salary_cleaned['salary'],bins,labels=['d0','d2','d4','d6','d8'])[0:10]"
   ]
  },
  {
   "cell_type": "markdown",
   "metadata": {
    "colab_type": "text",
    "id": "mr5XCFWnANYN"
   },
   "source": [
    "Similarly, we can create dummy variables to categorize our labels and bins into an organized dataframe by using pd.get_dummies(). It will display whether a player fits into our labels based on their salary bin range."
   ]
  },
  {
   "cell_type": "code",
   "execution_count": 63,
   "metadata": {
    "colab": {},
    "colab_type": "code",
    "id": "mtcXsec9_mlA"
   },
   "outputs": [],
   "source": [
    "dummy_variable = pd.get_dummies(pd.cut(nfl_salary_cleaned['salary'],bins,labels=['d0','d2','d4','d6','d8']))"
   ]
  },
  {
   "cell_type": "code",
   "execution_count": 64,
   "metadata": {
    "colab": {
     "base_uri": "https://localhost:8080/",
     "height": 204
    },
    "colab_type": "code",
    "executionInfo": {
     "elapsed": 518,
     "status": "ok",
     "timestamp": 1599755759592,
     "user": {
      "displayName": "Kevin Lee",
      "photoUrl": "https://lh3.googleusercontent.com/a-/AOh14Gi-Bzlj5PkYle1VXcuH3tD0oB_eYMp8TFinoIcH=s64",
      "userId": "17607607416881687332"
     },
     "user_tz": 240
    },
    "id": "UKxoBGbu_res",
    "outputId": "7941c3c2-82f6-4cef-e43d-656191a8ba44"
   },
   "outputs": [
    {
     "data": {
      "text/html": [
       "<div>\n",
       "<style scoped>\n",
       "    .dataframe tbody tr th:only-of-type {\n",
       "        vertical-align: middle;\n",
       "    }\n",
       "\n",
       "    .dataframe tbody tr th {\n",
       "        vertical-align: top;\n",
       "    }\n",
       "\n",
       "    .dataframe thead th {\n",
       "        text-align: right;\n",
       "    }\n",
       "</style>\n",
       "<table border=\"1\" class=\"dataframe\">\n",
       "  <thead>\n",
       "    <tr style=\"text-align: right;\">\n",
       "      <th></th>\n",
       "      <th>d0</th>\n",
       "      <th>d2</th>\n",
       "      <th>d4</th>\n",
       "      <th>d6</th>\n",
       "      <th>d8</th>\n",
       "    </tr>\n",
       "  </thead>\n",
       "  <tbody>\n",
       "    <tr>\n",
       "      <th>2</th>\n",
       "      <td>0</td>\n",
       "      <td>0</td>\n",
       "      <td>0</td>\n",
       "      <td>1</td>\n",
       "      <td>0</td>\n",
       "    </tr>\n",
       "    <tr>\n",
       "      <th>6</th>\n",
       "      <td>0</td>\n",
       "      <td>0</td>\n",
       "      <td>0</td>\n",
       "      <td>1</td>\n",
       "      <td>0</td>\n",
       "    </tr>\n",
       "    <tr>\n",
       "      <th>13</th>\n",
       "      <td>0</td>\n",
       "      <td>0</td>\n",
       "      <td>1</td>\n",
       "      <td>0</td>\n",
       "      <td>0</td>\n",
       "    </tr>\n",
       "    <tr>\n",
       "      <th>37</th>\n",
       "      <td>0</td>\n",
       "      <td>0</td>\n",
       "      <td>0</td>\n",
       "      <td>0</td>\n",
       "      <td>1</td>\n",
       "    </tr>\n",
       "    <tr>\n",
       "      <th>53</th>\n",
       "      <td>0</td>\n",
       "      <td>0</td>\n",
       "      <td>0</td>\n",
       "      <td>0</td>\n",
       "      <td>1</td>\n",
       "    </tr>\n",
       "  </tbody>\n",
       "</table>\n",
       "</div>"
      ],
      "text/plain": [
       "    d0  d2  d4  d6  d8\n",
       "2    0   0   0   1   0\n",
       "6    0   0   0   1   0\n",
       "13   0   0   1   0   0\n",
       "37   0   0   0   0   1\n",
       "53   0   0   0   0   1"
      ]
     },
     "execution_count": 64,
     "metadata": {},
     "output_type": "execute_result"
    }
   ],
   "source": [
    "dummy_variable.head()"
   ]
  },
  {
   "cell_type": "markdown",
   "metadata": {
    "colab_type": "text",
    "id": "xd9q8cM3FG_H"
   },
   "source": [
    "# Joining and Merging Datasets"
   ]
  },
  {
   "cell_type": "markdown",
   "metadata": {
    "colab_type": "text",
    "id": "Qnw4Bo5-Nq6Q"
   },
   "source": [
    "Let's create some simple dataframes"
   ]
  },
  {
   "cell_type": "code",
   "execution_count": 65,
   "metadata": {
    "colab": {},
    "colab_type": "code",
    "id": "xhrrw_mWNvCf"
   },
   "outputs": [],
   "source": [
    "drinks1 = pd.DataFrame({'Drinks': ['Coca-Cola', 'Sprite', 'Fanta', 'Root-Beer', 'Dr. Pepper'],\n",
    "                   'Prices': [0.99, 1.49, 1.99, 2.49, 5],\n",
    "                   'id': ['D01', 'D02', 'D03', 'D04', 'D05']})"
   ]
  },
  {
   "cell_type": "code",
   "execution_count": 66,
   "metadata": {
    "colab": {
     "base_uri": "https://localhost:8080/",
     "height": 204
    },
    "colab_type": "code",
    "executionInfo": {
     "elapsed": 312,
     "status": "ok",
     "timestamp": 1599695177523,
     "user": {
      "displayName": "Kevin Lee",
      "photoUrl": "https://lh3.googleusercontent.com/a-/AOh14Gi-Bzlj5PkYle1VXcuH3tD0oB_eYMp8TFinoIcH=s64",
      "userId": "17607607416881687332"
     },
     "user_tz": 240
    },
    "id": "m72YNCgIOws1",
    "outputId": "bff1c207-6090-4601-839c-1c1bbf0f86e6"
   },
   "outputs": [
    {
     "data": {
      "text/html": [
       "<div>\n",
       "<style scoped>\n",
       "    .dataframe tbody tr th:only-of-type {\n",
       "        vertical-align: middle;\n",
       "    }\n",
       "\n",
       "    .dataframe tbody tr th {\n",
       "        vertical-align: top;\n",
       "    }\n",
       "\n",
       "    .dataframe thead th {\n",
       "        text-align: right;\n",
       "    }\n",
       "</style>\n",
       "<table border=\"1\" class=\"dataframe\">\n",
       "  <thead>\n",
       "    <tr style=\"text-align: right;\">\n",
       "      <th></th>\n",
       "      <th>Drinks</th>\n",
       "      <th>Prices</th>\n",
       "      <th>id</th>\n",
       "    </tr>\n",
       "  </thead>\n",
       "  <tbody>\n",
       "    <tr>\n",
       "      <th>0</th>\n",
       "      <td>Coca-Cola</td>\n",
       "      <td>0.99</td>\n",
       "      <td>D01</td>\n",
       "    </tr>\n",
       "    <tr>\n",
       "      <th>1</th>\n",
       "      <td>Sprite</td>\n",
       "      <td>1.49</td>\n",
       "      <td>D02</td>\n",
       "    </tr>\n",
       "    <tr>\n",
       "      <th>2</th>\n",
       "      <td>Fanta</td>\n",
       "      <td>1.99</td>\n",
       "      <td>D03</td>\n",
       "    </tr>\n",
       "    <tr>\n",
       "      <th>3</th>\n",
       "      <td>Root-Beer</td>\n",
       "      <td>2.49</td>\n",
       "      <td>D04</td>\n",
       "    </tr>\n",
       "    <tr>\n",
       "      <th>4</th>\n",
       "      <td>Dr. Pepper</td>\n",
       "      <td>5.00</td>\n",
       "      <td>D05</td>\n",
       "    </tr>\n",
       "  </tbody>\n",
       "</table>\n",
       "</div>"
      ],
      "text/plain": [
       "       Drinks  Prices   id\n",
       "0   Coca-Cola    0.99  D01\n",
       "1      Sprite    1.49  D02\n",
       "2       Fanta    1.99  D03\n",
       "3   Root-Beer    2.49  D04\n",
       "4  Dr. Pepper    5.00  D05"
      ]
     },
     "execution_count": 66,
     "metadata": {},
     "output_type": "execute_result"
    }
   ],
   "source": [
    "drinks1.head()"
   ]
  },
  {
   "cell_type": "code",
   "execution_count": 67,
   "metadata": {
    "colab": {},
    "colab_type": "code",
    "id": "WA5g4dUzO0UD"
   },
   "outputs": [],
   "source": [
    "drinks2 = pd.DataFrame({'Drinks': ['Squirt', 'Ginger-Ale', 'Cream-Soda', 'Pepsi'],\n",
    "                   'Prices': [0.49, 0.99, 1.99, 1.49],\n",
    "                   'id': ['D06', 'D07', 'D08', 'D09']})"
   ]
  },
  {
   "cell_type": "code",
   "execution_count": 68,
   "metadata": {
    "colab": {
     "base_uri": "https://localhost:8080/",
     "height": 173
    },
    "colab_type": "code",
    "executionInfo": {
     "elapsed": 363,
     "status": "ok",
     "timestamp": 1599695138351,
     "user": {
      "displayName": "Kevin Lee",
      "photoUrl": "https://lh3.googleusercontent.com/a-/AOh14Gi-Bzlj5PkYle1VXcuH3tD0oB_eYMp8TFinoIcH=s64",
      "userId": "17607607416881687332"
     },
     "user_tz": 240
    },
    "id": "a9h4qnjXQpWU",
    "outputId": "1a4bceed-94f9-43a5-fd70-5bfd2a372894"
   },
   "outputs": [
    {
     "data": {
      "text/html": [
       "<div>\n",
       "<style scoped>\n",
       "    .dataframe tbody tr th:only-of-type {\n",
       "        vertical-align: middle;\n",
       "    }\n",
       "\n",
       "    .dataframe tbody tr th {\n",
       "        vertical-align: top;\n",
       "    }\n",
       "\n",
       "    .dataframe thead th {\n",
       "        text-align: right;\n",
       "    }\n",
       "</style>\n",
       "<table border=\"1\" class=\"dataframe\">\n",
       "  <thead>\n",
       "    <tr style=\"text-align: right;\">\n",
       "      <th></th>\n",
       "      <th>Drinks</th>\n",
       "      <th>Prices</th>\n",
       "      <th>id</th>\n",
       "    </tr>\n",
       "  </thead>\n",
       "  <tbody>\n",
       "    <tr>\n",
       "      <th>0</th>\n",
       "      <td>Squirt</td>\n",
       "      <td>0.49</td>\n",
       "      <td>D06</td>\n",
       "    </tr>\n",
       "    <tr>\n",
       "      <th>1</th>\n",
       "      <td>Ginger-Ale</td>\n",
       "      <td>0.99</td>\n",
       "      <td>D07</td>\n",
       "    </tr>\n",
       "    <tr>\n",
       "      <th>2</th>\n",
       "      <td>Cream-Soda</td>\n",
       "      <td>1.99</td>\n",
       "      <td>D08</td>\n",
       "    </tr>\n",
       "    <tr>\n",
       "      <th>3</th>\n",
       "      <td>Pepsi</td>\n",
       "      <td>1.49</td>\n",
       "      <td>D09</td>\n",
       "    </tr>\n",
       "  </tbody>\n",
       "</table>\n",
       "</div>"
      ],
      "text/plain": [
       "       Drinks  Prices   id\n",
       "0      Squirt    0.49  D06\n",
       "1  Ginger-Ale    0.99  D07\n",
       "2  Cream-Soda    1.99  D08\n",
       "3       Pepsi    1.49  D09"
      ]
     },
     "execution_count": 68,
     "metadata": {},
     "output_type": "execute_result"
    }
   ],
   "source": [
    "drinks2.head()"
   ]
  },
  {
   "cell_type": "markdown",
   "metadata": {
    "colab_type": "text",
    "id": "bR_1eDb6QsDz"
   },
   "source": [
    "<font color='red'>To-do:</font> Concatenate drinks1 and drinks2 on rows, but ignore indexes. Show all 9 rows on the df"
   ]
  },
  {
   "cell_type": "code",
   "execution_count": 69,
   "metadata": {},
   "outputs": [
    {
     "data": {
      "text/html": [
       "<div>\n",
       "<style scoped>\n",
       "    .dataframe tbody tr th:only-of-type {\n",
       "        vertical-align: middle;\n",
       "    }\n",
       "\n",
       "    .dataframe tbody tr th {\n",
       "        vertical-align: top;\n",
       "    }\n",
       "\n",
       "    .dataframe thead th {\n",
       "        text-align: right;\n",
       "    }\n",
       "</style>\n",
       "<table border=\"1\" class=\"dataframe\">\n",
       "  <thead>\n",
       "    <tr style=\"text-align: right;\">\n",
       "      <th></th>\n",
       "      <th>Drinks</th>\n",
       "      <th>Prices</th>\n",
       "      <th>id</th>\n",
       "    </tr>\n",
       "  </thead>\n",
       "  <tbody>\n",
       "    <tr>\n",
       "      <th>0</th>\n",
       "      <td>Coca-Cola</td>\n",
       "      <td>0.99</td>\n",
       "      <td>D01</td>\n",
       "    </tr>\n",
       "    <tr>\n",
       "      <th>1</th>\n",
       "      <td>Sprite</td>\n",
       "      <td>1.49</td>\n",
       "      <td>D02</td>\n",
       "    </tr>\n",
       "    <tr>\n",
       "      <th>2</th>\n",
       "      <td>Fanta</td>\n",
       "      <td>1.99</td>\n",
       "      <td>D03</td>\n",
       "    </tr>\n",
       "    <tr>\n",
       "      <th>3</th>\n",
       "      <td>Root-Beer</td>\n",
       "      <td>2.49</td>\n",
       "      <td>D04</td>\n",
       "    </tr>\n",
       "    <tr>\n",
       "      <th>4</th>\n",
       "      <td>Dr. Pepper</td>\n",
       "      <td>5.00</td>\n",
       "      <td>D05</td>\n",
       "    </tr>\n",
       "    <tr>\n",
       "      <th>5</th>\n",
       "      <td>Squirt</td>\n",
       "      <td>0.49</td>\n",
       "      <td>D06</td>\n",
       "    </tr>\n",
       "    <tr>\n",
       "      <th>6</th>\n",
       "      <td>Ginger-Ale</td>\n",
       "      <td>0.99</td>\n",
       "      <td>D07</td>\n",
       "    </tr>\n",
       "    <tr>\n",
       "      <th>7</th>\n",
       "      <td>Cream-Soda</td>\n",
       "      <td>1.99</td>\n",
       "      <td>D08</td>\n",
       "    </tr>\n",
       "    <tr>\n",
       "      <th>8</th>\n",
       "      <td>Pepsi</td>\n",
       "      <td>1.49</td>\n",
       "      <td>D09</td>\n",
       "    </tr>\n",
       "  </tbody>\n",
       "</table>\n",
       "</div>"
      ],
      "text/plain": [
       "       Drinks  Prices   id\n",
       "0   Coca-Cola    0.99  D01\n",
       "1      Sprite    1.49  D02\n",
       "2       Fanta    1.99  D03\n",
       "3   Root-Beer    2.49  D04\n",
       "4  Dr. Pepper    5.00  D05\n",
       "5      Squirt    0.49  D06\n",
       "6  Ginger-Ale    0.99  D07\n",
       "7  Cream-Soda    1.99  D08\n",
       "8       Pepsi    1.49  D09"
      ]
     },
     "execution_count": 69,
     "metadata": {},
     "output_type": "execute_result"
    }
   ],
   "source": [
    "pd.concat([drinks1, drinks2], ignore_index = True)"
   ]
  },
  {
   "cell_type": "markdown",
   "metadata": {
    "colab_type": "text",
    "id": "h6RG15tRGltz"
   },
   "source": [
    "Now let's practice joining tables. Load in title.ratings.tsv and title.basics.tsv. <font color='red'>These files are included in the zipped file you downloaded with your lab instructions. </font>"
   ]
  },
  {
   "cell_type": "code",
   "execution_count": 70,
   "metadata": {
    "colab": {},
    "colab_type": "code",
    "id": "vllwqTvcGwkN"
   },
   "outputs": [],
   "source": [
    "ratings = pd.read_csv('title.ratings.tsv', sep='\\t')"
   ]
  },
  {
   "cell_type": "code",
   "execution_count": 71,
   "metadata": {
    "colab": {
     "base_uri": "https://localhost:8080/",
     "height": 204
    },
    "colab_type": "code",
    "executionInfo": {
     "elapsed": 329,
     "status": "ok",
     "timestamp": 1600097831675,
     "user": {
      "displayName": "Kevin Lee",
      "photoUrl": "https://lh3.googleusercontent.com/a-/AOh14Gi-Bzlj5PkYle1VXcuH3tD0oB_eYMp8TFinoIcH=s64",
      "userId": "17607607416881687332"
     },
     "user_tz": 240
    },
    "id": "kIjePgntHLuI",
    "outputId": "82b665fe-e3ae-4a3c-b862-4a0febf6d0f9"
   },
   "outputs": [
    {
     "data": {
      "text/html": [
       "<div>\n",
       "<style scoped>\n",
       "    .dataframe tbody tr th:only-of-type {\n",
       "        vertical-align: middle;\n",
       "    }\n",
       "\n",
       "    .dataframe tbody tr th {\n",
       "        vertical-align: top;\n",
       "    }\n",
       "\n",
       "    .dataframe thead th {\n",
       "        text-align: right;\n",
       "    }\n",
       "</style>\n",
       "<table border=\"1\" class=\"dataframe\">\n",
       "  <thead>\n",
       "    <tr style=\"text-align: right;\">\n",
       "      <th></th>\n",
       "      <th>tconst</th>\n",
       "      <th>averageRating</th>\n",
       "      <th>numVotes</th>\n",
       "    </tr>\n",
       "  </thead>\n",
       "  <tbody>\n",
       "    <tr>\n",
       "      <th>0</th>\n",
       "      <td>tt0000001</td>\n",
       "      <td>5.6</td>\n",
       "      <td>1646</td>\n",
       "    </tr>\n",
       "    <tr>\n",
       "      <th>1</th>\n",
       "      <td>tt0000002</td>\n",
       "      <td>6.1</td>\n",
       "      <td>198</td>\n",
       "    </tr>\n",
       "    <tr>\n",
       "      <th>2</th>\n",
       "      <td>tt0000003</td>\n",
       "      <td>6.5</td>\n",
       "      <td>1345</td>\n",
       "    </tr>\n",
       "    <tr>\n",
       "      <th>3</th>\n",
       "      <td>tt0000004</td>\n",
       "      <td>6.2</td>\n",
       "      <td>120</td>\n",
       "    </tr>\n",
       "    <tr>\n",
       "      <th>4</th>\n",
       "      <td>tt0000005</td>\n",
       "      <td>6.1</td>\n",
       "      <td>2131</td>\n",
       "    </tr>\n",
       "  </tbody>\n",
       "</table>\n",
       "</div>"
      ],
      "text/plain": [
       "      tconst  averageRating  numVotes\n",
       "0  tt0000001            5.6      1646\n",
       "1  tt0000002            6.1       198\n",
       "2  tt0000003            6.5      1345\n",
       "3  tt0000004            6.2       120\n",
       "4  tt0000005            6.1      2131"
      ]
     },
     "execution_count": 71,
     "metadata": {},
     "output_type": "execute_result"
    }
   ],
   "source": [
    "ratings.head()"
   ]
  },
  {
   "cell_type": "code",
   "execution_count": 72,
   "metadata": {
    "colab": {
     "base_uri": "https://localhost:8080/",
     "height": 71
    },
    "colab_type": "code",
    "executionInfo": {
     "elapsed": 26728,
     "status": "ok",
     "timestamp": 1600097860039,
     "user": {
      "displayName": "Kevin Lee",
      "photoUrl": "https://lh3.googleusercontent.com/a-/AOh14Gi-Bzlj5PkYle1VXcuH3tD0oB_eYMp8TFinoIcH=s64",
      "userId": "17607607416881687332"
     },
     "user_tz": 240
    },
    "id": "ebJKDdrmLrEV",
    "outputId": "65603d38-29b2-4890-a1ba-dca1d55f5124"
   },
   "outputs": [
    {
     "name": "stderr",
     "output_type": "stream",
     "text": [
      "/Users/xuruge/opt/anaconda3/lib/python3.8/site-packages/IPython/core/interactiveshell.py:3146: DtypeWarning: Columns (5) have mixed types.Specify dtype option on import or set low_memory=False.\n",
      "  has_raised = await self.run_ast_nodes(code_ast.body, cell_name,\n"
     ]
    }
   ],
   "source": [
    "titles = pd.read_csv('title.basics.tsv', sep='\\t')"
   ]
  },
  {
   "cell_type": "code",
   "execution_count": 73,
   "metadata": {
    "colab": {
     "base_uri": "https://localhost:8080/",
     "height": 221
    },
    "colab_type": "code",
    "executionInfo": {
     "elapsed": 24873,
     "status": "ok",
     "timestamp": 1600097860041,
     "user": {
      "displayName": "Kevin Lee",
      "photoUrl": "https://lh3.googleusercontent.com/a-/AOh14Gi-Bzlj5PkYle1VXcuH3tD0oB_eYMp8TFinoIcH=s64",
      "userId": "17607607416881687332"
     },
     "user_tz": 240
    },
    "id": "Ds-m6jZDLymQ",
    "outputId": "51f02e43-26b9-47a5-8e8a-ffc397acd492"
   },
   "outputs": [
    {
     "data": {
      "text/html": [
       "<div>\n",
       "<style scoped>\n",
       "    .dataframe tbody tr th:only-of-type {\n",
       "        vertical-align: middle;\n",
       "    }\n",
       "\n",
       "    .dataframe tbody tr th {\n",
       "        vertical-align: top;\n",
       "    }\n",
       "\n",
       "    .dataframe thead th {\n",
       "        text-align: right;\n",
       "    }\n",
       "</style>\n",
       "<table border=\"1\" class=\"dataframe\">\n",
       "  <thead>\n",
       "    <tr style=\"text-align: right;\">\n",
       "      <th></th>\n",
       "      <th>tconst</th>\n",
       "      <th>titleType</th>\n",
       "      <th>primaryTitle</th>\n",
       "      <th>originalTitle</th>\n",
       "      <th>isAdult</th>\n",
       "      <th>startYear</th>\n",
       "      <th>endYear</th>\n",
       "      <th>runtimeMinutes</th>\n",
       "      <th>genres</th>\n",
       "    </tr>\n",
       "  </thead>\n",
       "  <tbody>\n",
       "    <tr>\n",
       "      <th>0</th>\n",
       "      <td>tt0000001</td>\n",
       "      <td>short</td>\n",
       "      <td>Carmencita</td>\n",
       "      <td>Carmencita</td>\n",
       "      <td>0</td>\n",
       "      <td>1894</td>\n",
       "      <td>\\N</td>\n",
       "      <td>1</td>\n",
       "      <td>Documentary,Short</td>\n",
       "    </tr>\n",
       "    <tr>\n",
       "      <th>1</th>\n",
       "      <td>tt0000002</td>\n",
       "      <td>short</td>\n",
       "      <td>Le clown et ses chiens</td>\n",
       "      <td>Le clown et ses chiens</td>\n",
       "      <td>0</td>\n",
       "      <td>1892</td>\n",
       "      <td>\\N</td>\n",
       "      <td>5</td>\n",
       "      <td>Animation,Short</td>\n",
       "    </tr>\n",
       "    <tr>\n",
       "      <th>2</th>\n",
       "      <td>tt0000003</td>\n",
       "      <td>short</td>\n",
       "      <td>Pauvre Pierrot</td>\n",
       "      <td>Pauvre Pierrot</td>\n",
       "      <td>0</td>\n",
       "      <td>1892</td>\n",
       "      <td>\\N</td>\n",
       "      <td>4</td>\n",
       "      <td>Animation,Comedy,Romance</td>\n",
       "    </tr>\n",
       "    <tr>\n",
       "      <th>3</th>\n",
       "      <td>tt0000004</td>\n",
       "      <td>short</td>\n",
       "      <td>Un bon bock</td>\n",
       "      <td>Un bon bock</td>\n",
       "      <td>0</td>\n",
       "      <td>1892</td>\n",
       "      <td>\\N</td>\n",
       "      <td>12</td>\n",
       "      <td>Animation,Short</td>\n",
       "    </tr>\n",
       "    <tr>\n",
       "      <th>4</th>\n",
       "      <td>tt0000005</td>\n",
       "      <td>short</td>\n",
       "      <td>Blacksmith Scene</td>\n",
       "      <td>Blacksmith Scene</td>\n",
       "      <td>0</td>\n",
       "      <td>1893</td>\n",
       "      <td>\\N</td>\n",
       "      <td>1</td>\n",
       "      <td>Comedy,Short</td>\n",
       "    </tr>\n",
       "  </tbody>\n",
       "</table>\n",
       "</div>"
      ],
      "text/plain": [
       "      tconst titleType            primaryTitle           originalTitle  \\\n",
       "0  tt0000001     short              Carmencita              Carmencita   \n",
       "1  tt0000002     short  Le clown et ses chiens  Le clown et ses chiens   \n",
       "2  tt0000003     short          Pauvre Pierrot          Pauvre Pierrot   \n",
       "3  tt0000004     short             Un bon bock             Un bon bock   \n",
       "4  tt0000005     short        Blacksmith Scene        Blacksmith Scene   \n",
       "\n",
       "   isAdult startYear endYear runtimeMinutes                    genres  \n",
       "0        0      1894      \\N              1         Documentary,Short  \n",
       "1        0      1892      \\N              5           Animation,Short  \n",
       "2        0      1892      \\N              4  Animation,Comedy,Romance  \n",
       "3        0      1892      \\N             12           Animation,Short  \n",
       "4        0      1893      \\N              1              Comedy,Short  "
      ]
     },
     "execution_count": 73,
     "metadata": {},
     "output_type": "execute_result"
    }
   ],
   "source": [
    "titles.head()"
   ]
  },
  {
   "cell_type": "markdown",
   "metadata": {
    "colab_type": "text",
    "id": "Guk9OUcMMGpu"
   },
   "source": [
    "Notice that on titles and ratings, tconst is the same. We can therefore join these two dataframe using that column as index."
   ]
  },
  {
   "cell_type": "markdown",
   "metadata": {
    "colab_type": "text",
    "id": "vrLe3kJAMQpn"
   },
   "source": [
    "<font color='red'>To-do:</font> Merge ratings and titles in a dataframe called imdb_info on tconst. In a markdown cell, explain what kind of join this is and why you chose to use it."
   ]
  },
  {
   "cell_type": "code",
   "execution_count": 74,
   "metadata": {
    "scrolled": true
   },
   "outputs": [
    {
     "data": {
      "text/html": [
       "<div>\n",
       "<style scoped>\n",
       "    .dataframe tbody tr th:only-of-type {\n",
       "        vertical-align: middle;\n",
       "    }\n",
       "\n",
       "    .dataframe tbody tr th {\n",
       "        vertical-align: top;\n",
       "    }\n",
       "\n",
       "    .dataframe thead th {\n",
       "        text-align: right;\n",
       "    }\n",
       "</style>\n",
       "<table border=\"1\" class=\"dataframe\">\n",
       "  <thead>\n",
       "    <tr style=\"text-align: right;\">\n",
       "      <th></th>\n",
       "      <th>tconst</th>\n",
       "      <th>averageRating</th>\n",
       "      <th>numVotes</th>\n",
       "      <th>titleType</th>\n",
       "      <th>primaryTitle</th>\n",
       "      <th>originalTitle</th>\n",
       "      <th>isAdult</th>\n",
       "      <th>startYear</th>\n",
       "      <th>endYear</th>\n",
       "      <th>runtimeMinutes</th>\n",
       "      <th>genres</th>\n",
       "    </tr>\n",
       "  </thead>\n",
       "  <tbody>\n",
       "    <tr>\n",
       "      <th>0</th>\n",
       "      <td>tt0000001</td>\n",
       "      <td>5.6</td>\n",
       "      <td>1646</td>\n",
       "      <td>short</td>\n",
       "      <td>Carmencita</td>\n",
       "      <td>Carmencita</td>\n",
       "      <td>0</td>\n",
       "      <td>1894</td>\n",
       "      <td>\\N</td>\n",
       "      <td>1</td>\n",
       "      <td>Documentary,Short</td>\n",
       "    </tr>\n",
       "    <tr>\n",
       "      <th>1</th>\n",
       "      <td>tt0000002</td>\n",
       "      <td>6.1</td>\n",
       "      <td>198</td>\n",
       "      <td>short</td>\n",
       "      <td>Le clown et ses chiens</td>\n",
       "      <td>Le clown et ses chiens</td>\n",
       "      <td>0</td>\n",
       "      <td>1892</td>\n",
       "      <td>\\N</td>\n",
       "      <td>5</td>\n",
       "      <td>Animation,Short</td>\n",
       "    </tr>\n",
       "    <tr>\n",
       "      <th>2</th>\n",
       "      <td>tt0000003</td>\n",
       "      <td>6.5</td>\n",
       "      <td>1345</td>\n",
       "      <td>short</td>\n",
       "      <td>Pauvre Pierrot</td>\n",
       "      <td>Pauvre Pierrot</td>\n",
       "      <td>0</td>\n",
       "      <td>1892</td>\n",
       "      <td>\\N</td>\n",
       "      <td>4</td>\n",
       "      <td>Animation,Comedy,Romance</td>\n",
       "    </tr>\n",
       "    <tr>\n",
       "      <th>3</th>\n",
       "      <td>tt0000004</td>\n",
       "      <td>6.2</td>\n",
       "      <td>120</td>\n",
       "      <td>short</td>\n",
       "      <td>Un bon bock</td>\n",
       "      <td>Un bon bock</td>\n",
       "      <td>0</td>\n",
       "      <td>1892</td>\n",
       "      <td>\\N</td>\n",
       "      <td>12</td>\n",
       "      <td>Animation,Short</td>\n",
       "    </tr>\n",
       "    <tr>\n",
       "      <th>4</th>\n",
       "      <td>tt0000005</td>\n",
       "      <td>6.1</td>\n",
       "      <td>2131</td>\n",
       "      <td>short</td>\n",
       "      <td>Blacksmith Scene</td>\n",
       "      <td>Blacksmith Scene</td>\n",
       "      <td>0</td>\n",
       "      <td>1893</td>\n",
       "      <td>\\N</td>\n",
       "      <td>1</td>\n",
       "      <td>Comedy,Short</td>\n",
       "    </tr>\n",
       "  </tbody>\n",
       "</table>\n",
       "</div>"
      ],
      "text/plain": [
       "      tconst  averageRating  numVotes titleType            primaryTitle  \\\n",
       "0  tt0000001            5.6      1646     short              Carmencita   \n",
       "1  tt0000002            6.1       198     short  Le clown et ses chiens   \n",
       "2  tt0000003            6.5      1345     short          Pauvre Pierrot   \n",
       "3  tt0000004            6.2       120     short             Un bon bock   \n",
       "4  tt0000005            6.1      2131     short        Blacksmith Scene   \n",
       "\n",
       "            originalTitle  isAdult startYear endYear runtimeMinutes  \\\n",
       "0              Carmencita        0      1894      \\N              1   \n",
       "1  Le clown et ses chiens        0      1892      \\N              5   \n",
       "2          Pauvre Pierrot        0      1892      \\N              4   \n",
       "3             Un bon bock        0      1892      \\N             12   \n",
       "4        Blacksmith Scene        0      1893      \\N              1   \n",
       "\n",
       "                     genres  \n",
       "0         Documentary,Short  \n",
       "1           Animation,Short  \n",
       "2  Animation,Comedy,Romance  \n",
       "3           Animation,Short  \n",
       "4              Comedy,Short  "
      ]
     },
     "execution_count": 74,
     "metadata": {},
     "output_type": "execute_result"
    }
   ],
   "source": [
    "imdb_info = ratings.merge(titles, on = 'tconst')\n",
    "imdb_info.head()"
   ]
  },
  {
   "cell_type": "markdown",
   "metadata": {},
   "source": [
    "pandas.merge uses a default inner join. This takes only the intersection of two dataframes on 'tconst'. I choose this kind of join because it will only select the rows that are not NaN for both dataframes."
   ]
  },
  {
   "cell_type": "markdown",
   "metadata": {
    "colab_type": "text",
    "id": "_9mVmVanTFsi"
   },
   "source": [
    "<font color='red'>To-do:</font> In a markdown cell, explain the difference between an inner join, outer join, right join, and left join."
   ]
  },
  {
   "cell_type": "markdown",
   "metadata": {},
   "source": [
    "Left join means all the values from the \"left\" side are used, whether or not there's a corresponding entry from the \"right\" side. Right join means all the values from the \"right\" side are used, whether or not a corresponding value from the \"left\" side exists. Outer joins include values from both the \"left\" and \"right\" DataFrames, regardless of whether there are corresponding values in the other DataFrame. Inner joins include only those values that exist in both the \"left\" and \"right\" DataFrames."
   ]
  },
  {
   "cell_type": "markdown",
   "metadata": {
    "colab_type": "text",
    "id": "iX4_9PsjR6xq"
   },
   "source": [
    "<font color='red'>To-do:</font> What is the difference between pd.concat and pd.merge?"
   ]
  },
  {
   "cell_type": "markdown",
   "metadata": {},
   "source": [
    "pd.merge: used to combine two or more dataframes on the basis of values of common columns or row-indices. pd.concat: used to append one or more dataframes below the other or sideways after aligning on indices."
   ]
  },
  {
   "cell_type": "markdown",
   "metadata": {
    "colab_type": "text",
    "id": "Lsm9e-H2nWyh"
   },
   "source": [
    "# Exploding, manipulation and grouping practice, YAY!"
   ]
  },
  {
   "cell_type": "markdown",
   "metadata": {
    "colab_type": "text",
    "id": "SaWUa4fSneeu"
   },
   "source": [
    "Let's look at the genres in our imdb_info df. Use explode function to create a row per genre, title pair. (Similar to Q14 in HW1). There also appears to be '\\N' tacked onto each of the cells. Let's also get rid of that. "
   ]
  },
  {
   "cell_type": "code",
   "execution_count": 75,
   "metadata": {
    "colab": {
     "base_uri": "https://localhost:8080/",
     "height": 409
    },
    "colab_type": "code",
    "executionInfo": {
     "elapsed": 3188,
     "status": "error",
     "timestamp": 1599761694272,
     "user": {
      "displayName": "Kevin Lee",
      "photoUrl": "https://lh3.googleusercontent.com/a-/AOh14Gi-Bzlj5PkYle1VXcuH3tD0oB_eYMp8TFinoIcH=s64",
      "userId": "17607607416881687332"
     },
     "user_tz": 240
    },
    "id": "xHh9YdlBnd-4",
    "outputId": "2ea860a6-cbfa-4b20-e266-9ea2e759efe6"
   },
   "outputs": [],
   "source": [
    "imdb_info.genres = imdb_info.genres.str.extract(r'([a-zA-Z,]*)')\n",
    "imdb_info.loc[:,\"genre_list\"] = imdb_info.apply(lambda x: str(x[\"genres\"]).split(\",\"),axis=1)\n",
    "df_genre = imdb_info.explode(\"genre_list\")\n",
    "df_genre.rename(columns={'genre_list':'genre'}, inplace=True)"
   ]
  },
  {
   "cell_type": "code",
   "execution_count": 76,
   "metadata": {},
   "outputs": [
    {
     "data": {
      "text/html": [
       "<div>\n",
       "<style scoped>\n",
       "    .dataframe tbody tr th:only-of-type {\n",
       "        vertical-align: middle;\n",
       "    }\n",
       "\n",
       "    .dataframe tbody tr th {\n",
       "        vertical-align: top;\n",
       "    }\n",
       "\n",
       "    .dataframe thead th {\n",
       "        text-align: right;\n",
       "    }\n",
       "</style>\n",
       "<table border=\"1\" class=\"dataframe\">\n",
       "  <thead>\n",
       "    <tr style=\"text-align: right;\">\n",
       "      <th></th>\n",
       "      <th>tconst</th>\n",
       "      <th>averageRating</th>\n",
       "      <th>numVotes</th>\n",
       "      <th>titleType</th>\n",
       "      <th>primaryTitle</th>\n",
       "      <th>originalTitle</th>\n",
       "      <th>isAdult</th>\n",
       "      <th>startYear</th>\n",
       "      <th>endYear</th>\n",
       "      <th>runtimeMinutes</th>\n",
       "      <th>genres</th>\n",
       "      <th>genre_list</th>\n",
       "    </tr>\n",
       "  </thead>\n",
       "  <tbody>\n",
       "    <tr>\n",
       "      <th>0</th>\n",
       "      <td>tt0000001</td>\n",
       "      <td>5.6</td>\n",
       "      <td>1646</td>\n",
       "      <td>short</td>\n",
       "      <td>Carmencita</td>\n",
       "      <td>Carmencita</td>\n",
       "      <td>0</td>\n",
       "      <td>1894</td>\n",
       "      <td>\\N</td>\n",
       "      <td>1</td>\n",
       "      <td>Documentary,Short</td>\n",
       "      <td>[Documentary, Short]</td>\n",
       "    </tr>\n",
       "    <tr>\n",
       "      <th>1</th>\n",
       "      <td>tt0000002</td>\n",
       "      <td>6.1</td>\n",
       "      <td>198</td>\n",
       "      <td>short</td>\n",
       "      <td>Le clown et ses chiens</td>\n",
       "      <td>Le clown et ses chiens</td>\n",
       "      <td>0</td>\n",
       "      <td>1892</td>\n",
       "      <td>\\N</td>\n",
       "      <td>5</td>\n",
       "      <td>Animation,Short</td>\n",
       "      <td>[Animation, Short]</td>\n",
       "    </tr>\n",
       "    <tr>\n",
       "      <th>2</th>\n",
       "      <td>tt0000003</td>\n",
       "      <td>6.5</td>\n",
       "      <td>1345</td>\n",
       "      <td>short</td>\n",
       "      <td>Pauvre Pierrot</td>\n",
       "      <td>Pauvre Pierrot</td>\n",
       "      <td>0</td>\n",
       "      <td>1892</td>\n",
       "      <td>\\N</td>\n",
       "      <td>4</td>\n",
       "      <td>Animation,Comedy,Romance</td>\n",
       "      <td>[Animation, Comedy, Romance]</td>\n",
       "    </tr>\n",
       "    <tr>\n",
       "      <th>3</th>\n",
       "      <td>tt0000004</td>\n",
       "      <td>6.2</td>\n",
       "      <td>120</td>\n",
       "      <td>short</td>\n",
       "      <td>Un bon bock</td>\n",
       "      <td>Un bon bock</td>\n",
       "      <td>0</td>\n",
       "      <td>1892</td>\n",
       "      <td>\\N</td>\n",
       "      <td>12</td>\n",
       "      <td>Animation,Short</td>\n",
       "      <td>[Animation, Short]</td>\n",
       "    </tr>\n",
       "    <tr>\n",
       "      <th>4</th>\n",
       "      <td>tt0000005</td>\n",
       "      <td>6.1</td>\n",
       "      <td>2131</td>\n",
       "      <td>short</td>\n",
       "      <td>Blacksmith Scene</td>\n",
       "      <td>Blacksmith Scene</td>\n",
       "      <td>0</td>\n",
       "      <td>1893</td>\n",
       "      <td>\\N</td>\n",
       "      <td>1</td>\n",
       "      <td>Comedy,Short</td>\n",
       "      <td>[Comedy, Short]</td>\n",
       "    </tr>\n",
       "  </tbody>\n",
       "</table>\n",
       "</div>"
      ],
      "text/plain": [
       "      tconst  averageRating  numVotes titleType            primaryTitle  \\\n",
       "0  tt0000001            5.6      1646     short              Carmencita   \n",
       "1  tt0000002            6.1       198     short  Le clown et ses chiens   \n",
       "2  tt0000003            6.5      1345     short          Pauvre Pierrot   \n",
       "3  tt0000004            6.2       120     short             Un bon bock   \n",
       "4  tt0000005            6.1      2131     short        Blacksmith Scene   \n",
       "\n",
       "            originalTitle  isAdult startYear endYear runtimeMinutes  \\\n",
       "0              Carmencita        0      1894      \\N              1   \n",
       "1  Le clown et ses chiens        0      1892      \\N              5   \n",
       "2          Pauvre Pierrot        0      1892      \\N              4   \n",
       "3             Un bon bock        0      1892      \\N             12   \n",
       "4        Blacksmith Scene        0      1893      \\N              1   \n",
       "\n",
       "                     genres                    genre_list  \n",
       "0         Documentary,Short          [Documentary, Short]  \n",
       "1           Animation,Short            [Animation, Short]  \n",
       "2  Animation,Comedy,Romance  [Animation, Comedy, Romance]  \n",
       "3           Animation,Short            [Animation, Short]  \n",
       "4              Comedy,Short               [Comedy, Short]  "
      ]
     },
     "execution_count": 76,
     "metadata": {},
     "output_type": "execute_result"
    }
   ],
   "source": [
    "imdb_info.head()"
   ]
  },
  {
   "cell_type": "markdown",
   "metadata": {
    "colab_type": "text",
    "id": "tPQyN-vW8F9G"
   },
   "source": [
    "Looking at runtimeMinutes, we see that its type is object."
   ]
  },
  {
   "cell_type": "code",
   "execution_count": 77,
   "metadata": {
    "colab": {
     "base_uri": "https://localhost:8080/",
     "height": 119
    },
    "colab_type": "code",
    "executionInfo": {
     "elapsed": 267,
     "status": "ok",
     "timestamp": 1599761696758,
     "user": {
      "displayName": "Kevin Lee",
      "photoUrl": "https://lh3.googleusercontent.com/a-/AOh14Gi-Bzlj5PkYle1VXcuH3tD0oB_eYMp8TFinoIcH=s64",
      "userId": "17607607416881687332"
     },
     "user_tz": 240
    },
    "id": "cpsIQYDx8B2s",
    "outputId": "4116e414-b911-462e-a994-67b332e3882f"
   },
   "outputs": [
    {
     "data": {
      "text/plain": [
       "0    1\n",
       "0    1\n",
       "1    5\n",
       "1    5\n",
       "2    4\n",
       "Name: runtimeMinutes, dtype: object"
      ]
     },
     "execution_count": 77,
     "metadata": {},
     "output_type": "execute_result"
    }
   ],
   "source": [
    "df_genre['runtimeMinutes'].head()"
   ]
  },
  {
   "cell_type": "markdown",
   "metadata": {
    "colab_type": "text",
    "id": "RPpK42-F9_mX"
   },
   "source": [
    "We want to fix the data up a bit more. There appears to be '\\\\N' tacked onto the end of runtimeMinutes. Let's just grab the number in each of the cells by using some regex"
   ]
  },
  {
   "cell_type": "markdown",
   "metadata": {
    "colab_type": "text",
    "id": "uS86YNg6GRtQ"
   },
   "source": [
    "<font color='red'>To-do:</font> Extract the numeric values from the runtimeMinutes column. (HINT: use .str.extract())"
   ]
  },
  {
   "cell_type": "code",
   "execution_count": 78,
   "metadata": {},
   "outputs": [
    {
     "data": {
      "text/plain": [
       "0    1\n",
       "0    1\n",
       "1    5\n",
       "1    5\n",
       "2    4\n",
       "Name: runtimeMinutes, dtype: object"
      ]
     },
     "execution_count": 78,
     "metadata": {},
     "output_type": "execute_result"
    }
   ],
   "source": [
    "df_genre.runtimeMinutes = df_genre.runtimeMinutes.str.extract(r'([0-9.]*)')\n",
    "df_genre['runtimeMinutes'].head()"
   ]
  },
  {
   "cell_type": "markdown",
   "metadata": {
    "colab_type": "text",
    "id": "hhmdqtW28480"
   },
   "source": [
    "<font color='red'>To-do:</font> Change the object dtype of runtimeMinutes to float."
   ]
  },
  {
   "cell_type": "code",
   "execution_count": 79,
   "metadata": {},
   "outputs": [
    {
     "data": {
      "text/plain": [
       "0    1.0\n",
       "0    1.0\n",
       "1    5.0\n",
       "1    5.0\n",
       "2    4.0\n",
       "Name: runtimeMinutes, dtype: float64"
      ]
     },
     "execution_count": 79,
     "metadata": {},
     "output_type": "execute_result"
    }
   ],
   "source": [
    "df_genre.loc[:,\"runtimeMinutes\"] = pd.to_numeric(df_genre['runtimeMinutes'])\n",
    "df_genre['runtimeMinutes'].head()"
   ]
  },
  {
   "cell_type": "markdown",
   "metadata": {
    "colab_type": "text",
    "id": "QKIUGva8EuCe"
   },
   "source": [
    "Let's practice using some groupby on the dataset. Let's look at the df by grouping by the average rating"
   ]
  },
  {
   "cell_type": "code",
   "execution_count": 80,
   "metadata": {
    "colab": {
     "base_uri": "https://localhost:8080/",
     "height": 450
    },
    "colab_type": "code",
    "executionInfo": {
     "elapsed": 666,
     "status": "ok",
     "timestamp": 1599761710694,
     "user": {
      "displayName": "Kevin Lee",
      "photoUrl": "https://lh3.googleusercontent.com/a-/AOh14Gi-Bzlj5PkYle1VXcuH3tD0oB_eYMp8TFinoIcH=s64",
      "userId": "17607607416881687332"
     },
     "user_tz": 240
    },
    "id": "GiO2RRyLEzYo",
    "outputId": "0ad9a335-5d8d-427b-ec66-66e22cf183d7"
   },
   "outputs": [
    {
     "data": {
      "text/html": [
       "<div>\n",
       "<style scoped>\n",
       "    .dataframe tbody tr th:only-of-type {\n",
       "        vertical-align: middle;\n",
       "    }\n",
       "\n",
       "    .dataframe tbody tr th {\n",
       "        vertical-align: top;\n",
       "    }\n",
       "\n",
       "    .dataframe thead th {\n",
       "        text-align: right;\n",
       "    }\n",
       "</style>\n",
       "<table border=\"1\" class=\"dataframe\">\n",
       "  <thead>\n",
       "    <tr style=\"text-align: right;\">\n",
       "      <th></th>\n",
       "      <th>numVotes</th>\n",
       "      <th>isAdult</th>\n",
       "      <th>runtimeMinutes</th>\n",
       "    </tr>\n",
       "    <tr>\n",
       "      <th>averageRating</th>\n",
       "      <th></th>\n",
       "      <th></th>\n",
       "      <th></th>\n",
       "    </tr>\n",
       "  </thead>\n",
       "  <tbody>\n",
       "    <tr>\n",
       "      <th>1.0</th>\n",
       "      <td>208524</td>\n",
       "      <td>4</td>\n",
       "      <td>26444.0</td>\n",
       "    </tr>\n",
       "    <tr>\n",
       "      <th>1.1</th>\n",
       "      <td>34632</td>\n",
       "      <td>9</td>\n",
       "      <td>11054.0</td>\n",
       "    </tr>\n",
       "    <tr>\n",
       "      <th>1.2</th>\n",
       "      <td>37745</td>\n",
       "      <td>9</td>\n",
       "      <td>14083.0</td>\n",
       "    </tr>\n",
       "    <tr>\n",
       "      <th>1.3</th>\n",
       "      <td>133439</td>\n",
       "      <td>9</td>\n",
       "      <td>15836.0</td>\n",
       "    </tr>\n",
       "    <tr>\n",
       "      <th>1.4</th>\n",
       "      <td>250526</td>\n",
       "      <td>3</td>\n",
       "      <td>17615.0</td>\n",
       "    </tr>\n",
       "    <tr>\n",
       "      <th>...</th>\n",
       "      <td>...</td>\n",
       "      <td>...</td>\n",
       "      <td>...</td>\n",
       "    </tr>\n",
       "    <tr>\n",
       "      <th>9.6</th>\n",
       "      <td>2590258</td>\n",
       "      <td>44</td>\n",
       "      <td>82023.0</td>\n",
       "    </tr>\n",
       "    <tr>\n",
       "      <th>9.7</th>\n",
       "      <td>2603109</td>\n",
       "      <td>17</td>\n",
       "      <td>43255.0</td>\n",
       "    </tr>\n",
       "    <tr>\n",
       "      <th>9.8</th>\n",
       "      <td>1293387</td>\n",
       "      <td>35</td>\n",
       "      <td>40721.0</td>\n",
       "    </tr>\n",
       "    <tr>\n",
       "      <th>9.9</th>\n",
       "      <td>2526855</td>\n",
       "      <td>11</td>\n",
       "      <td>14948.0</td>\n",
       "    </tr>\n",
       "    <tr>\n",
       "      <th>10.0</th>\n",
       "      <td>403865</td>\n",
       "      <td>40</td>\n",
       "      <td>21242.0</td>\n",
       "    </tr>\n",
       "  </tbody>\n",
       "</table>\n",
       "<p>91 rows × 3 columns</p>\n",
       "</div>"
      ],
      "text/plain": [
       "               numVotes  isAdult  runtimeMinutes\n",
       "averageRating                                   \n",
       "1.0              208524        4         26444.0\n",
       "1.1               34632        9         11054.0\n",
       "1.2               37745        9         14083.0\n",
       "1.3              133439        9         15836.0\n",
       "1.4              250526        3         17615.0\n",
       "...                 ...      ...             ...\n",
       "9.6             2590258       44         82023.0\n",
       "9.7             2603109       17         43255.0\n",
       "9.8             1293387       35         40721.0\n",
       "9.9             2526855       11         14948.0\n",
       "10.0             403865       40         21242.0\n",
       "\n",
       "[91 rows x 3 columns]"
      ]
     },
     "execution_count": 80,
     "metadata": {},
     "output_type": "execute_result"
    }
   ],
   "source": [
    "df_genre.groupby('averageRating').sum()"
   ]
  },
  {
   "cell_type": "markdown",
   "metadata": {
    "colab_type": "text",
    "id": "UttGyKpX7VIe"
   },
   "source": [
    "<font color='red'>To-do:</font> Find the average number of votes for averageRating for each genre. Find the first quartile."
   ]
  },
  {
   "cell_type": "code",
   "execution_count": 81,
   "metadata": {},
   "outputs": [
    {
     "data": {
      "text/plain": [
       "genre    averageRating\n",
       "         1.0              21.318182\n",
       "         1.1              43.333333\n",
       "         1.2              39.454545\n",
       "         1.3              36.080000\n",
       "         1.4              36.880000\n",
       "                            ...    \n",
       "Western  9.6               8.714286\n",
       "         9.7               6.000000\n",
       "         9.8               5.333333\n",
       "nan      8.0               5.000000\n",
       "         8.2               5.000000\n",
       "Name: numVotes, Length: 2579, dtype: float64"
      ]
     },
     "execution_count": 81,
     "metadata": {},
     "output_type": "execute_result"
    }
   ],
   "source": [
    "df_genre.groupby(['genre', 'averageRating']).mean()['numVotes']"
   ]
  },
  {
   "cell_type": "code",
   "execution_count": 82,
   "metadata": {
    "scrolled": true
   },
   "outputs": [
    {
     "data": {
      "text/plain": [
       "averageRating  genres                    \n",
       "1.0                                            8.25\n",
       "               Action,Adventure               12.00\n",
       "               Action,Adventure,Animation      6.00\n",
       "               Action,Adventure,Crime        313.00\n",
       "               Action,Adventure,Horror        24.00\n",
       "                                              ...  \n",
       "10.0           Short,Thriller                  5.00\n",
       "               Short,War                       8.00\n",
       "               Sport                          10.00\n",
       "               Talk                            7.00\n",
       "               Thriller                        5.75\n",
       "Name: numVotes, Length: 44906, dtype: float64"
      ]
     },
     "execution_count": 82,
     "metadata": {},
     "output_type": "execute_result"
    }
   ],
   "source": [
    "df_genre.groupby(['averageRating','genres']).quantile(q=0.25)['numVotes']"
   ]
  },
  {
   "cell_type": "markdown",
   "metadata": {
    "colab_type": "text",
    "id": "T8ZHXqh978Sx"
   },
   "source": [
    "<font color='red'>To-do:</font> What is the total number of votes for each genre, for each start year? (hint - use groupby)"
   ]
  },
  {
   "cell_type": "code",
   "execution_count": 83,
   "metadata": {},
   "outputs": [
    {
     "data": {
      "text/plain": [
       "startYear  genre    \n",
       "1892       Animation    1663\n",
       "           Comedy       1345\n",
       "           Romance      1345\n",
       "           Short         318\n",
       "1893       Comedy       2131\n",
       "                        ... \n",
       "\\N         Short         179\n",
       "           Sport         100\n",
       "           Talk           37\n",
       "           Thriller      725\n",
       "           nan            10\n",
       "Name: numVotes, Length: 4903, dtype: int64"
      ]
     },
     "execution_count": 83,
     "metadata": {},
     "output_type": "execute_result"
    }
   ],
   "source": [
    "df_genre.groupby(['startYear', 'genre']).sum()['numVotes']"
   ]
  },
  {
   "cell_type": "markdown",
   "metadata": {},
   "source": [
    "# Analysis on Child Opportunity Index"
   ]
  },
  {
   "cell_type": "markdown",
   "metadata": {},
   "source": [
    "Now let's analyse the child opportunity dataset from the lecture with the tools we've learnt today. But, first let's load the Child Opportunity Index json file from the lecture. Column descriptions can be found at this [link](https://data.diversitydatakids.org/dataset/coi20-child-opportunity-index-2-0-database/resource/f16fff12-b1e5-4f60-85d3-3a0ededa30a0)"
   ]
  },
  {
   "cell_type": "code",
   "execution_count": 84,
   "metadata": {},
   "outputs": [],
   "source": [
    "opportunity = pd.read_json('raw.json')"
   ]
  },
  {
   "cell_type": "markdown",
   "metadata": {},
   "source": [
    "<font color='red'>To-do:</font>  Create a dataframe that shows the min, average and maximum median household income in census tracts that belong to a top 100 metropolitan area and those that don't (hint: use groupby and apply to do this)"
   ]
  },
  {
   "cell_type": "code",
   "execution_count": 85,
   "metadata": {},
   "outputs": [
    {
     "data": {
      "text/html": [
       "<div>\n",
       "<style scoped>\n",
       "    .dataframe tbody tr th:only-of-type {\n",
       "        vertical-align: middle;\n",
       "    }\n",
       "\n",
       "    .dataframe tbody tr th {\n",
       "        vertical-align: top;\n",
       "    }\n",
       "\n",
       "    .dataframe thead th {\n",
       "        text-align: right;\n",
       "    }\n",
       "</style>\n",
       "<table border=\"1\" class=\"dataframe\">\n",
       "  <thead>\n",
       "    <tr style=\"text-align: right;\">\n",
       "      <th></th>\n",
       "      <th>SE_MHE</th>\n",
       "      <th>SE_MHE</th>\n",
       "      <th>SE_MHE</th>\n",
       "    </tr>\n",
       "    <tr>\n",
       "      <th>in100</th>\n",
       "      <th></th>\n",
       "      <th></th>\n",
       "      <th></th>\n",
       "    </tr>\n",
       "  </thead>\n",
       "  <tbody>\n",
       "    <tr>\n",
       "      <th>0.0</th>\n",
       "      <td>2499.0</td>\n",
       "      <td>51280.497588</td>\n",
       "      <td>254394.0</td>\n",
       "    </tr>\n",
       "    <tr>\n",
       "      <th>1.0</th>\n",
       "      <td>2499.0</td>\n",
       "      <td>67220.144778</td>\n",
       "      <td>266907.0</td>\n",
       "    </tr>\n",
       "  </tbody>\n",
       "</table>\n",
       "</div>"
      ],
      "text/plain": [
       "       SE_MHE        SE_MHE    SE_MHE\n",
       "in100                                \n",
       "0.0    2499.0  51280.497588  254394.0\n",
       "1.0    2499.0  67220.144778  266907.0"
      ]
     },
     "execution_count": 85,
     "metadata": {},
     "output_type": "execute_result"
    }
   ],
   "source": [
    "df_groupbyin100 = opportunity.groupby('in100')['SE_MHE']\n",
    "df_min = df_groupbyin100.apply(lambda x: np.min(x))\n",
    "df_avg = df_groupbyin100.apply(lambda x: np.mean(x))\n",
    "df_max = df_groupbyin100.apply(lambda x: np.max(x))\n",
    "pd.concat([df_min, df_avg, df_max], axis=1)"
   ]
  },
  {
   "cell_type": "markdown",
   "metadata": {},
   "source": [
    "<font color='red'>To-do:</font> Create a a new column in the dataframe by bucketing the median household income into 4 equal sized in terms of number of rows groups (hint use pd.Series.quantile function) \"low_mhe\",\"low-medium_mhe\", \"high-medium_mhe\", and \"high_mhe\". "
   ]
  },
  {
   "cell_type": "code",
   "execution_count": 86,
   "metadata": {},
   "outputs": [
    {
     "data": {
      "text/html": [
       "<div>\n",
       "<style scoped>\n",
       "    .dataframe tbody tr th:only-of-type {\n",
       "        vertical-align: middle;\n",
       "    }\n",
       "\n",
       "    .dataframe tbody tr th {\n",
       "        vertical-align: top;\n",
       "    }\n",
       "\n",
       "    .dataframe thead th {\n",
       "        text-align: right;\n",
       "    }\n",
       "</style>\n",
       "<table border=\"1\" class=\"dataframe\">\n",
       "  <thead>\n",
       "    <tr style=\"text-align: right;\">\n",
       "      <th></th>\n",
       "      <th>geoid</th>\n",
       "      <th>year</th>\n",
       "      <th>in100</th>\n",
       "      <th>msaid15</th>\n",
       "      <th>msaname15</th>\n",
       "      <th>countyfips</th>\n",
       "      <th>statefips</th>\n",
       "      <th>stateusps</th>\n",
       "      <th>pop</th>\n",
       "      <th>ED_APENR</th>\n",
       "      <th>...</th>\n",
       "      <th>HE_RSEI</th>\n",
       "      <th>SE_POVRATE</th>\n",
       "      <th>SE_PUBLIC</th>\n",
       "      <th>SE_HOME</th>\n",
       "      <th>SE_OCC</th>\n",
       "      <th>SE_MHE</th>\n",
       "      <th>SE_EMPRAT</th>\n",
       "      <th>SE_JOBPROX</th>\n",
       "      <th>SE_SINGLE</th>\n",
       "      <th>SE_MHE_bucket</th>\n",
       "    </tr>\n",
       "  </thead>\n",
       "  <tbody>\n",
       "    <tr>\n",
       "      <th>0</th>\n",
       "      <td>1001020100</td>\n",
       "      <td>2010</td>\n",
       "      <td>0.0</td>\n",
       "      <td>33860.0</td>\n",
       "      <td>Montgomery, AL Metro Area</td>\n",
       "      <td>1001</td>\n",
       "      <td>1</td>\n",
       "      <td>AL</td>\n",
       "      <td>424</td>\n",
       "      <td>0.349463</td>\n",
       "      <td>...</td>\n",
       "      <td>5.933720</td>\n",
       "      <td>9.240363</td>\n",
       "      <td>14.398734</td>\n",
       "      <td>84.335442</td>\n",
       "      <td>27.972027</td>\n",
       "      <td>60321.0</td>\n",
       "      <td>68.187744</td>\n",
       "      <td>5.224787</td>\n",
       "      <td>17.256638</td>\n",
       "      <td>high-median_mhe</td>\n",
       "    </tr>\n",
       "    <tr>\n",
       "      <th>1</th>\n",
       "      <td>1001020100</td>\n",
       "      <td>2015</td>\n",
       "      <td>0.0</td>\n",
       "      <td>33860.0</td>\n",
       "      <td>Montgomery, AL Metro Area</td>\n",
       "      <td>1001</td>\n",
       "      <td>1</td>\n",
       "      <td>AL</td>\n",
       "      <td>414</td>\n",
       "      <td>0.252991</td>\n",
       "      <td>...</td>\n",
       "      <td>7.015026</td>\n",
       "      <td>10.677506</td>\n",
       "      <td>12.068965</td>\n",
       "      <td>75.198936</td>\n",
       "      <td>38.479000</td>\n",
       "      <td>67826.0</td>\n",
       "      <td>82.987556</td>\n",
       "      <td>1.052632</td>\n",
       "      <td>26.556019</td>\n",
       "      <td>high-median_mhe</td>\n",
       "    </tr>\n",
       "    <tr>\n",
       "      <th>2</th>\n",
       "      <td>1001020200</td>\n",
       "      <td>2010</td>\n",
       "      <td>0.0</td>\n",
       "      <td>33860.0</td>\n",
       "      <td>Montgomery, AL Metro Area</td>\n",
       "      <td>1001</td>\n",
       "      <td>1</td>\n",
       "      <td>AL</td>\n",
       "      <td>497</td>\n",
       "      <td>0.350239</td>\n",
       "      <td>...</td>\n",
       "      <td>6.083863</td>\n",
       "      <td>10.511090</td>\n",
       "      <td>13.028169</td>\n",
       "      <td>58.568073</td>\n",
       "      <td>40.000000</td>\n",
       "      <td>44039.0</td>\n",
       "      <td>59.521217</td>\n",
       "      <td>1.727862</td>\n",
       "      <td>48.818897</td>\n",
       "      <td>low-median_mhe</td>\n",
       "    </tr>\n",
       "    <tr>\n",
       "      <th>3</th>\n",
       "      <td>1001020200</td>\n",
       "      <td>2015</td>\n",
       "      <td>0.0</td>\n",
       "      <td>33860.0</td>\n",
       "      <td>Montgomery, AL Metro Area</td>\n",
       "      <td>1001</td>\n",
       "      <td>1</td>\n",
       "      <td>AL</td>\n",
       "      <td>508</td>\n",
       "      <td>0.253207</td>\n",
       "      <td>...</td>\n",
       "      <td>7.306938</td>\n",
       "      <td>22.413794</td>\n",
       "      <td>24.137930</td>\n",
       "      <td>61.941254</td>\n",
       "      <td>30.516430</td>\n",
       "      <td>41287.0</td>\n",
       "      <td>60.339661</td>\n",
       "      <td>0.931315</td>\n",
       "      <td>47.470818</td>\n",
       "      <td>low-median_mhe</td>\n",
       "    </tr>\n",
       "    <tr>\n",
       "      <th>4</th>\n",
       "      <td>1001020300</td>\n",
       "      <td>2010</td>\n",
       "      <td>0.0</td>\n",
       "      <td>33860.0</td>\n",
       "      <td>Montgomery, AL Metro Area</td>\n",
       "      <td>1001</td>\n",
       "      <td>1</td>\n",
       "      <td>AL</td>\n",
       "      <td>878</td>\n",
       "      <td>0.349768</td>\n",
       "      <td>...</td>\n",
       "      <td>6.162114</td>\n",
       "      <td>11.823454</td>\n",
       "      <td>9.035088</td>\n",
       "      <td>76.315788</td>\n",
       "      <td>31.036932</td>\n",
       "      <td>46002.0</td>\n",
       "      <td>82.875099</td>\n",
       "      <td>1.788375</td>\n",
       "      <td>31.969309</td>\n",
       "      <td>low-median_mhe</td>\n",
       "    </tr>\n",
       "    <tr>\n",
       "      <th>...</th>\n",
       "      <td>...</td>\n",
       "      <td>...</td>\n",
       "      <td>...</td>\n",
       "      <td>...</td>\n",
       "      <td>...</td>\n",
       "      <td>...</td>\n",
       "      <td>...</td>\n",
       "      <td>...</td>\n",
       "      <td>...</td>\n",
       "      <td>...</td>\n",
       "      <td>...</td>\n",
       "      <td>...</td>\n",
       "      <td>...</td>\n",
       "      <td>...</td>\n",
       "      <td>...</td>\n",
       "      <td>...</td>\n",
       "      <td>...</td>\n",
       "      <td>...</td>\n",
       "      <td>...</td>\n",
       "      <td>...</td>\n",
       "      <td>...</td>\n",
       "    </tr>\n",
       "    <tr>\n",
       "      <th>146107</th>\n",
       "      <td>56043000302</td>\n",
       "      <td>2015</td>\n",
       "      <td>NaN</td>\n",
       "      <td>NaN</td>\n",
       "      <td>None</td>\n",
       "      <td>56043</td>\n",
       "      <td>56</td>\n",
       "      <td>WY</td>\n",
       "      <td>706</td>\n",
       "      <td>0.221675</td>\n",
       "      <td>...</td>\n",
       "      <td>5.326058</td>\n",
       "      <td>14.899487</td>\n",
       "      <td>8.024072</td>\n",
       "      <td>76.028084</td>\n",
       "      <td>32.825882</td>\n",
       "      <td>52214.0</td>\n",
       "      <td>70.059875</td>\n",
       "      <td>7.700206</td>\n",
       "      <td>12.012987</td>\n",
       "      <td>low-median_mhe</td>\n",
       "    </tr>\n",
       "    <tr>\n",
       "      <th>146108</th>\n",
       "      <td>56045951100</td>\n",
       "      <td>2010</td>\n",
       "      <td>NaN</td>\n",
       "      <td>NaN</td>\n",
       "      <td>None</td>\n",
       "      <td>56045</td>\n",
       "      <td>56</td>\n",
       "      <td>WY</td>\n",
       "      <td>638</td>\n",
       "      <td>0.000000</td>\n",
       "      <td>...</td>\n",
       "      <td>1.225840</td>\n",
       "      <td>10.197711</td>\n",
       "      <td>3.453947</td>\n",
       "      <td>80.838814</td>\n",
       "      <td>26.534653</td>\n",
       "      <td>68768.0</td>\n",
       "      <td>70.643524</td>\n",
       "      <td>31.721613</td>\n",
       "      <td>25.000000</td>\n",
       "      <td>high-median_mhe</td>\n",
       "    </tr>\n",
       "    <tr>\n",
       "      <th>146109</th>\n",
       "      <td>56045951100</td>\n",
       "      <td>2015</td>\n",
       "      <td>NaN</td>\n",
       "      <td>NaN</td>\n",
       "      <td>None</td>\n",
       "      <td>56045</td>\n",
       "      <td>56</td>\n",
       "      <td>WY</td>\n",
       "      <td>577</td>\n",
       "      <td>0.192535</td>\n",
       "      <td>...</td>\n",
       "      <td>0.469633</td>\n",
       "      <td>12.532808</td>\n",
       "      <td>4.201102</td>\n",
       "      <td>78.925621</td>\n",
       "      <td>32.217308</td>\n",
       "      <td>62435.0</td>\n",
       "      <td>73.387695</td>\n",
       "      <td>23.780487</td>\n",
       "      <td>33.514984</td>\n",
       "      <td>high-median_mhe</td>\n",
       "    </tr>\n",
       "    <tr>\n",
       "      <th>146110</th>\n",
       "      <td>56045951300</td>\n",
       "      <td>2010</td>\n",
       "      <td>NaN</td>\n",
       "      <td>NaN</td>\n",
       "      <td>None</td>\n",
       "      <td>56045</td>\n",
       "      <td>56</td>\n",
       "      <td>WY</td>\n",
       "      <td>954</td>\n",
       "      <td>0.000000</td>\n",
       "      <td>...</td>\n",
       "      <td>4.060935</td>\n",
       "      <td>16.489092</td>\n",
       "      <td>5.855339</td>\n",
       "      <td>77.324913</td>\n",
       "      <td>25.696268</td>\n",
       "      <td>50070.0</td>\n",
       "      <td>84.599152</td>\n",
       "      <td>17.847338</td>\n",
       "      <td>35.205181</td>\n",
       "      <td>low-median_mhe</td>\n",
       "    </tr>\n",
       "    <tr>\n",
       "      <th>146111</th>\n",
       "      <td>56045951300</td>\n",
       "      <td>2015</td>\n",
       "      <td>NaN</td>\n",
       "      <td>NaN</td>\n",
       "      <td>None</td>\n",
       "      <td>56045</td>\n",
       "      <td>56</td>\n",
       "      <td>WY</td>\n",
       "      <td>922</td>\n",
       "      <td>0.000000</td>\n",
       "      <td>...</td>\n",
       "      <td>3.086356</td>\n",
       "      <td>15.929919</td>\n",
       "      <td>8.381503</td>\n",
       "      <td>74.624275</td>\n",
       "      <td>31.743422</td>\n",
       "      <td>54074.0</td>\n",
       "      <td>82.461784</td>\n",
       "      <td>17.639902</td>\n",
       "      <td>33.479214</td>\n",
       "      <td>low-median_mhe</td>\n",
       "    </tr>\n",
       "  </tbody>\n",
       "</table>\n",
       "<p>146112 rows × 39 columns</p>\n",
       "</div>"
      ],
      "text/plain": [
       "              geoid  year  in100  msaid15                  msaname15  \\\n",
       "0        1001020100  2010    0.0  33860.0  Montgomery, AL Metro Area   \n",
       "1        1001020100  2015    0.0  33860.0  Montgomery, AL Metro Area   \n",
       "2        1001020200  2010    0.0  33860.0  Montgomery, AL Metro Area   \n",
       "3        1001020200  2015    0.0  33860.0  Montgomery, AL Metro Area   \n",
       "4        1001020300  2010    0.0  33860.0  Montgomery, AL Metro Area   \n",
       "...             ...   ...    ...      ...                        ...   \n",
       "146107  56043000302  2015    NaN      NaN                       None   \n",
       "146108  56045951100  2010    NaN      NaN                       None   \n",
       "146109  56045951100  2015    NaN      NaN                       None   \n",
       "146110  56045951300  2010    NaN      NaN                       None   \n",
       "146111  56045951300  2015    NaN      NaN                       None   \n",
       "\n",
       "        countyfips  statefips stateusps  pop  ED_APENR  ...   HE_RSEI  \\\n",
       "0             1001          1        AL  424  0.349463  ...  5.933720   \n",
       "1             1001          1        AL  414  0.252991  ...  7.015026   \n",
       "2             1001          1        AL  497  0.350239  ...  6.083863   \n",
       "3             1001          1        AL  508  0.253207  ...  7.306938   \n",
       "4             1001          1        AL  878  0.349768  ...  6.162114   \n",
       "...            ...        ...       ...  ...       ...  ...       ...   \n",
       "146107       56043         56        WY  706  0.221675  ...  5.326058   \n",
       "146108       56045         56        WY  638  0.000000  ...  1.225840   \n",
       "146109       56045         56        WY  577  0.192535  ...  0.469633   \n",
       "146110       56045         56        WY  954  0.000000  ...  4.060935   \n",
       "146111       56045         56        WY  922  0.000000  ...  3.086356   \n",
       "\n",
       "        SE_POVRATE  SE_PUBLIC    SE_HOME     SE_OCC   SE_MHE  SE_EMPRAT  \\\n",
       "0         9.240363  14.398734  84.335442  27.972027  60321.0  68.187744   \n",
       "1        10.677506  12.068965  75.198936  38.479000  67826.0  82.987556   \n",
       "2        10.511090  13.028169  58.568073  40.000000  44039.0  59.521217   \n",
       "3        22.413794  24.137930  61.941254  30.516430  41287.0  60.339661   \n",
       "4        11.823454   9.035088  76.315788  31.036932  46002.0  82.875099   \n",
       "...            ...        ...        ...        ...      ...        ...   \n",
       "146107   14.899487   8.024072  76.028084  32.825882  52214.0  70.059875   \n",
       "146108   10.197711   3.453947  80.838814  26.534653  68768.0  70.643524   \n",
       "146109   12.532808   4.201102  78.925621  32.217308  62435.0  73.387695   \n",
       "146110   16.489092   5.855339  77.324913  25.696268  50070.0  84.599152   \n",
       "146111   15.929919   8.381503  74.624275  31.743422  54074.0  82.461784   \n",
       "\n",
       "        SE_JOBPROX  SE_SINGLE    SE_MHE_bucket  \n",
       "0         5.224787  17.256638  high-median_mhe  \n",
       "1         1.052632  26.556019  high-median_mhe  \n",
       "2         1.727862  48.818897   low-median_mhe  \n",
       "3         0.931315  47.470818   low-median_mhe  \n",
       "4         1.788375  31.969309   low-median_mhe  \n",
       "...            ...        ...              ...  \n",
       "146107    7.700206  12.012987   low-median_mhe  \n",
       "146108   31.721613  25.000000  high-median_mhe  \n",
       "146109   23.780487  33.514984  high-median_mhe  \n",
       "146110   17.847338  35.205181   low-median_mhe  \n",
       "146111   17.639902  33.479214   low-median_mhe  \n",
       "\n",
       "[146112 rows x 39 columns]"
      ]
     },
     "execution_count": 86,
     "metadata": {},
     "output_type": "execute_result"
    }
   ],
   "source": [
    "bins = opportunity['SE_MHE'].quantile(q=[0, 0.25, 0.5, 0.75, 1], interpolation='linear')\n",
    "opportunity['SE_MHE_bucket'] = pd.cut(opportunity['SE_MHE'],bins,labels=['low_mhe','low-median_mhe','high-median_mhe','high_mhe'])\n",
    "opportunity"
   ]
  },
  {
   "cell_type": "markdown",
   "metadata": {},
   "source": [
    "<font color='red'>To-do:</font> Now create a table such that the index corresponds to whether a census tract belongs to top 100 metropolitan area, the columns correspond to the median household income bucket and the values correspond to average third-grade math proficiency. As a challenge, consider what you may be able say about (i) the relationship between household income and math proficiency of children as a whole and (ii) how this relationship differs between big cities and elsewehere?"
   ]
  },
  {
   "cell_type": "code",
   "execution_count": 87,
   "metadata": {},
   "outputs": [
    {
     "data": {
      "text/html": [
       "<div>\n",
       "<style scoped>\n",
       "    .dataframe tbody tr th:only-of-type {\n",
       "        vertical-align: middle;\n",
       "    }\n",
       "\n",
       "    .dataframe tbody tr th {\n",
       "        vertical-align: top;\n",
       "    }\n",
       "\n",
       "    .dataframe thead th {\n",
       "        text-align: right;\n",
       "    }\n",
       "</style>\n",
       "<table border=\"1\" class=\"dataframe\">\n",
       "  <thead>\n",
       "    <tr style=\"text-align: right;\">\n",
       "      <th>SE_MHE_bucket</th>\n",
       "      <th>low_mhe</th>\n",
       "      <th>low-median_mhe</th>\n",
       "      <th>high-median_mhe</th>\n",
       "      <th>high_mhe</th>\n",
       "    </tr>\n",
       "    <tr>\n",
       "      <th>in100</th>\n",
       "      <th></th>\n",
       "      <th></th>\n",
       "      <th></th>\n",
       "      <th></th>\n",
       "    </tr>\n",
       "  </thead>\n",
       "  <tbody>\n",
       "    <tr>\n",
       "      <th>0.0</th>\n",
       "      <td>205.024781</td>\n",
       "      <td>220.900619</td>\n",
       "      <td>229.021845</td>\n",
       "      <td>242.240327</td>\n",
       "    </tr>\n",
       "    <tr>\n",
       "      <th>1.0</th>\n",
       "      <td>177.554489</td>\n",
       "      <td>205.821513</td>\n",
       "      <td>224.600362</td>\n",
       "      <td>257.436952</td>\n",
       "    </tr>\n",
       "  </tbody>\n",
       "</table>\n",
       "</div>"
      ],
      "text/plain": [
       "SE_MHE_bucket     low_mhe  low-median_mhe  high-median_mhe    high_mhe\n",
       "in100                                                                 \n",
       "0.0            205.024781      220.900619       229.021845  242.240327\n",
       "1.0            177.554489      205.821513       224.600362  257.436952"
      ]
     },
     "execution_count": 87,
     "metadata": {},
     "output_type": "execute_result"
    }
   ],
   "source": [
    "opportunity.pivot_table(index='in100',columns='SE_MHE_bucket',values='ED_MATH',aggfunc=np.mean)"
   ]
  },
  {
   "cell_type": "markdown",
   "metadata": {},
   "source": [
    "(i) From the table above, I conclude that the higher the household income, the higher the math proficiency of children."
   ]
  },
  {
   "cell_type": "markdown",
   "metadata": {},
   "source": [
    "(ii) The gap in math proficiency of children between families with different incomes is even more pronounced in big cities."
   ]
  }
 ],
 "metadata": {
  "colab": {
   "collapsed_sections": [
    "h_ict6b-qxLD",
    "2qNZJaFe-y7N",
    "xd9q8cM3FG_H",
    "Lsm9e-H2nWyh"
   ],
   "name": "si618_Lab2.ipynb",
   "provenance": [],
   "toc_visible": true
  },
  "interpreter": {
   "hash": "ccfad3a08567331d09d2432bee1b50cab695c9379824f131d2e64405b63b07b1"
  },
  "kernelspec": {
   "display_name": "Python 3",
   "language": "python",
   "name": "python3"
  },
  "language_info": {
   "codemirror_mode": {
    "name": "ipython",
    "version": 3
   },
   "file_extension": ".py",
   "mimetype": "text/x-python",
   "name": "python",
   "nbconvert_exporter": "python",
   "pygments_lexer": "ipython3",
   "version": "3.8.5"
  }
 },
 "nbformat": 4,
 "nbformat_minor": 4
}
